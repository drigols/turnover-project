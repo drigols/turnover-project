{
 "cells": [
  {
   "cell_type": "markdown",
   "id": "410873e5",
   "metadata": {},
   "source": [
    "# NOTE:\n",
    "Esse **Jupyter Notebook** terá comentários demasiados pelo os seguintes fatos:\n",
    " - Esse é um projeto de estudos;\n",
    " - Para quem desejar aprender a partir dos exemplos entenda o que foi feito."
   ]
  },
  {
   "cell_type": "markdown",
   "id": "1b1bad41",
   "metadata": {},
   "source": [
    "# Pré-Processamento\n",
    "Primeiro, vamos iniciar nossa análise baixando e referenciando as bibliotecas necessárias; E logo em seguida começar um **Pré-Processamento dos Dados**."
   ]
  },
  {
   "cell_type": "markdown",
   "id": "b4abaea8",
   "metadata": {},
   "source": [
    "## 01 - Baixando bibliotecas necessárias\n",
    "Por algum motivo o **MinIO** e o **fastparquet** não estão sendo reconhecidos no nosso **Jupyter Notebook**. Então, vamos baixar eles por aqui para prosseguir com as análises:"
   ]
  },
  {
   "cell_type": "code",
   "execution_count": 1,
   "id": "469cb91f",
   "metadata": {},
   "outputs": [
    {
     "name": "stdout",
     "output_type": "stream",
     "text": [
      "Requirement already satisfied: minio in /home/drigols/anaconda3/lib/python3.9/site-packages (7.1.2)\n",
      "Requirement already satisfied: fastparquet in /home/drigols/anaconda3/lib/python3.9/site-packages (0.7.2)\n",
      "Requirement already satisfied: urllib3 in /home/drigols/anaconda3/lib/python3.9/site-packages (from minio) (1.26.7)\n",
      "Requirement already satisfied: certifi in /home/drigols/anaconda3/lib/python3.9/site-packages (from minio) (2021.10.8)\n",
      "Requirement already satisfied: thrift>=0.11.0 in /home/drigols/anaconda3/lib/python3.9/site-packages (from fastparquet) (0.15.0)\n",
      "Requirement already satisfied: pandas>=1.1.0 in /home/drigols/anaconda3/lib/python3.9/site-packages (from fastparquet) (1.3.4)\n",
      "Requirement already satisfied: numpy>=1.18 in /home/drigols/anaconda3/lib/python3.9/site-packages (from fastparquet) (1.19.5)\n",
      "Requirement already satisfied: fsspec in /home/drigols/anaconda3/lib/python3.9/site-packages (from fastparquet) (2021.8.1)\n",
      "Requirement already satisfied: cramjam>=2.3.0 in /home/drigols/anaconda3/lib/python3.9/site-packages (from fastparquet) (2.5.0)\n",
      "Requirement already satisfied: python-dateutil>=2.7.3 in /home/drigols/anaconda3/lib/python3.9/site-packages (from pandas>=1.1.0->fastparquet) (2.8.2)\n",
      "Requirement already satisfied: pytz>=2017.3 in /home/drigols/anaconda3/lib/python3.9/site-packages (from pandas>=1.1.0->fastparquet) (2021.3)\n",
      "Requirement already satisfied: six>=1.5 in /home/drigols/anaconda3/lib/python3.9/site-packages (from python-dateutil>=2.7.3->pandas>=1.1.0->fastparquet) (1.16.0)\n"
     ]
    }
   ],
   "source": [
    "!pip3 install minio fastparquet"
   ]
  },
  {
   "cell_type": "markdown",
   "id": "7410d69a",
   "metadata": {},
   "source": [
    "## 02 - Importando as bibliotecas necessárias\n",
    "Como em qualquer projeto real aqui nós vamos começar importando as bibliotecas necessárias."
   ]
  },
  {
   "cell_type": "code",
   "execution_count": 2,
   "id": "8d9b163d",
   "metadata": {},
   "outputs": [],
   "source": [
    "import matplotlib.pyplot as plt\n",
    "from minio import Minio\n",
    "import seaborn as sns\n",
    "import pandas as pd\n",
    "import datetime\n",
    "import glob"
   ]
  },
  {
   "cell_type": "markdown",
   "id": "7da7a530",
   "metadata": {},
   "source": [
    "## 03 - Conectando ao Data Lake com o MinIO\n",
    "Ok, como nós sabemos o **MinIO** é o orquestrador da nossa aplicação. Sabendo disso, nós vamos criar uma `instância` do **MinIO** que vai representar a conexão com o nosso ***Data Lake***:"
   ]
  },
  {
   "cell_type": "code",
   "execution_count": 3,
   "id": "f5274952",
   "metadata": {},
   "outputs": [],
   "source": [
    "client = Minio(\n",
    "  \"localhost:9000\",\n",
    "  access_key=\"minioadmin\",\n",
    "  secret_key=\"minioadmin\",\n",
    "  secure=False\n",
    ")"
   ]
  },
  {
   "cell_type": "markdown",
   "id": "838ed69f",
   "metadata": {},
   "source": [
    "## 03 - Baixando o Dataset do Data Lake\n",
    "Agora que nós já criamos uma conexão *(Representação abstrata)* para o nosso ***Data Lake*** com **MinIO** vamos baixar os dados de lá *(Lembrando que nós salvamos esses dados no formato .parquet)*:"
   ]
  },
  {
   "cell_type": "code",
   "execution_count": 4,
   "id": "bfa60edd",
   "metadata": {},
   "outputs": [],
   "source": [
    "client.fget_object(\n",
    "  \"processing\", # Landing - Diretório (Bucket) que estamos buscando.\n",
    "  \"employees_dataset.parquet\", # Nome do arquivo que vamos baixar.\n",
    "  \"temp_.parquet\", # Nome do arquivo temporário para armazenar o que vamos baixar.\n",
    ")\n",
    "\n",
    "df = pd.read_parquet(\"temp_.parquet\")"
   ]
  },
  {
   "cell_type": "code",
   "execution_count": 5,
   "id": "22142337",
   "metadata": {},
   "outputs": [
    {
     "data": {
      "text/html": [
       "<div>\n",
       "<style scoped>\n",
       "    .dataframe tbody tr th:only-of-type {\n",
       "        vertical-align: middle;\n",
       "    }\n",
       "\n",
       "    .dataframe tbody tr th {\n",
       "        vertical-align: top;\n",
       "    }\n",
       "\n",
       "    .dataframe thead th {\n",
       "        text-align: right;\n",
       "    }\n",
       "</style>\n",
       "<table border=\"1\" class=\"dataframe\">\n",
       "  <thead>\n",
       "    <tr style=\"text-align: right;\">\n",
       "      <th></th>\n",
       "      <th>department</th>\n",
       "      <th>salary</th>\n",
       "      <th>left</th>\n",
       "      <th>mean_work_last_3_months</th>\n",
       "      <th>number_projects</th>\n",
       "      <th>satisfaction_level</th>\n",
       "      <th>last_evaluation</th>\n",
       "      <th>time_in_company</th>\n",
       "      <th>work_accident</th>\n",
       "    </tr>\n",
       "  </thead>\n",
       "  <tbody>\n",
       "    <tr>\n",
       "      <th>0</th>\n",
       "      <td>sales</td>\n",
       "      <td>low</td>\n",
       "      <td>1.0</td>\n",
       "      <td>266.000000</td>\n",
       "      <td>2.0</td>\n",
       "      <td>38.0</td>\n",
       "      <td>53.0</td>\n",
       "      <td>3.0</td>\n",
       "      <td>0.0</td>\n",
       "    </tr>\n",
       "    <tr>\n",
       "      <th>1</th>\n",
       "      <td>sales</td>\n",
       "      <td>medium</td>\n",
       "      <td>1.0</td>\n",
       "      <td>252.000000</td>\n",
       "      <td>5.0</td>\n",
       "      <td>80.0</td>\n",
       "      <td>86.0</td>\n",
       "      <td>6.0</td>\n",
       "      <td>0.0</td>\n",
       "    </tr>\n",
       "    <tr>\n",
       "      <th>2</th>\n",
       "      <td>sales</td>\n",
       "      <td>medium</td>\n",
       "      <td>1.0</td>\n",
       "      <td>289.666667</td>\n",
       "      <td>7.0</td>\n",
       "      <td>11.0</td>\n",
       "      <td>88.0</td>\n",
       "      <td>4.0</td>\n",
       "      <td>0.0</td>\n",
       "    </tr>\n",
       "    <tr>\n",
       "      <th>3</th>\n",
       "      <td>sales</td>\n",
       "      <td>low</td>\n",
       "      <td>1.0</td>\n",
       "      <td>275.666667</td>\n",
       "      <td>5.0</td>\n",
       "      <td>72.0</td>\n",
       "      <td>87.0</td>\n",
       "      <td>5.0</td>\n",
       "      <td>0.0</td>\n",
       "    </tr>\n",
       "    <tr>\n",
       "      <th>4</th>\n",
       "      <td>sales</td>\n",
       "      <td>low</td>\n",
       "      <td>1.0</td>\n",
       "      <td>292.333333</td>\n",
       "      <td>2.0</td>\n",
       "      <td>37.0</td>\n",
       "      <td>52.0</td>\n",
       "      <td>3.0</td>\n",
       "      <td>0.0</td>\n",
       "    </tr>\n",
       "    <tr>\n",
       "      <th>5</th>\n",
       "      <td>sales</td>\n",
       "      <td>low</td>\n",
       "      <td>1.0</td>\n",
       "      <td>271.000000</td>\n",
       "      <td>2.0</td>\n",
       "      <td>41.0</td>\n",
       "      <td>50.0</td>\n",
       "      <td>3.0</td>\n",
       "      <td>0.0</td>\n",
       "    </tr>\n",
       "    <tr>\n",
       "      <th>6</th>\n",
       "      <td>sales</td>\n",
       "      <td>low</td>\n",
       "      <td>1.0</td>\n",
       "      <td>268.666667</td>\n",
       "      <td>6.0</td>\n",
       "      <td>10.0</td>\n",
       "      <td>77.0</td>\n",
       "      <td>4.0</td>\n",
       "      <td>0.0</td>\n",
       "    </tr>\n",
       "    <tr>\n",
       "      <th>7</th>\n",
       "      <td>sales</td>\n",
       "      <td>low</td>\n",
       "      <td>1.0</td>\n",
       "      <td>274.666667</td>\n",
       "      <td>5.0</td>\n",
       "      <td>92.0</td>\n",
       "      <td>85.0</td>\n",
       "      <td>5.0</td>\n",
       "      <td>0.0</td>\n",
       "    </tr>\n",
       "    <tr>\n",
       "      <th>8</th>\n",
       "      <td>sales</td>\n",
       "      <td>low</td>\n",
       "      <td>1.0</td>\n",
       "      <td>269.333333</td>\n",
       "      <td>5.0</td>\n",
       "      <td>89.0</td>\n",
       "      <td>100.0</td>\n",
       "      <td>5.0</td>\n",
       "      <td>0.0</td>\n",
       "    </tr>\n",
       "    <tr>\n",
       "      <th>9</th>\n",
       "      <td>sales</td>\n",
       "      <td>low</td>\n",
       "      <td>1.0</td>\n",
       "      <td>280.000000</td>\n",
       "      <td>2.0</td>\n",
       "      <td>42.0</td>\n",
       "      <td>53.0</td>\n",
       "      <td>3.0</td>\n",
       "      <td>0.0</td>\n",
       "    </tr>\n",
       "    <tr>\n",
       "      <th>10</th>\n",
       "      <td>sales</td>\n",
       "      <td>low</td>\n",
       "      <td>1.0</td>\n",
       "      <td>274.666667</td>\n",
       "      <td>2.0</td>\n",
       "      <td>45.0</td>\n",
       "      <td>54.0</td>\n",
       "      <td>3.0</td>\n",
       "      <td>0.0</td>\n",
       "    </tr>\n",
       "    <tr>\n",
       "      <th>11</th>\n",
       "      <td>sales</td>\n",
       "      <td>low</td>\n",
       "      <td>1.0</td>\n",
       "      <td>280.333333</td>\n",
       "      <td>6.0</td>\n",
       "      <td>11.0</td>\n",
       "      <td>81.0</td>\n",
       "      <td>4.0</td>\n",
       "      <td>0.0</td>\n",
       "    </tr>\n",
       "    <tr>\n",
       "      <th>12</th>\n",
       "      <td>sales</td>\n",
       "      <td>low</td>\n",
       "      <td>1.0</td>\n",
       "      <td>279.666667</td>\n",
       "      <td>4.0</td>\n",
       "      <td>84.0</td>\n",
       "      <td>92.0</td>\n",
       "      <td>5.0</td>\n",
       "      <td>0.0</td>\n",
       "    </tr>\n",
       "    <tr>\n",
       "      <th>13</th>\n",
       "      <td>sales</td>\n",
       "      <td>low</td>\n",
       "      <td>1.0</td>\n",
       "      <td>286.000000</td>\n",
       "      <td>2.0</td>\n",
       "      <td>41.0</td>\n",
       "      <td>55.0</td>\n",
       "      <td>3.0</td>\n",
       "      <td>0.0</td>\n",
       "    </tr>\n",
       "    <tr>\n",
       "      <th>14</th>\n",
       "      <td>sales</td>\n",
       "      <td>low</td>\n",
       "      <td>1.0</td>\n",
       "      <td>270.333333</td>\n",
       "      <td>2.0</td>\n",
       "      <td>36.0</td>\n",
       "      <td>56.0</td>\n",
       "      <td>3.0</td>\n",
       "      <td>0.0</td>\n",
       "    </tr>\n",
       "    <tr>\n",
       "      <th>15</th>\n",
       "      <td>sales</td>\n",
       "      <td>low</td>\n",
       "      <td>1.0</td>\n",
       "      <td>291.666667</td>\n",
       "      <td>2.0</td>\n",
       "      <td>38.0</td>\n",
       "      <td>54.0</td>\n",
       "      <td>3.0</td>\n",
       "      <td>0.0</td>\n",
       "    </tr>\n",
       "    <tr>\n",
       "      <th>16</th>\n",
       "      <td>sales</td>\n",
       "      <td>low</td>\n",
       "      <td>1.0</td>\n",
       "      <td>258.666667</td>\n",
       "      <td>2.0</td>\n",
       "      <td>45.0</td>\n",
       "      <td>47.0</td>\n",
       "      <td>3.0</td>\n",
       "      <td>0.0</td>\n",
       "    </tr>\n",
       "    <tr>\n",
       "      <th>17</th>\n",
       "      <td>sales</td>\n",
       "      <td>low</td>\n",
       "      <td>1.0</td>\n",
       "      <td>287.666667</td>\n",
       "      <td>4.0</td>\n",
       "      <td>78.0</td>\n",
       "      <td>99.0</td>\n",
       "      <td>6.0</td>\n",
       "      <td>0.0</td>\n",
       "    </tr>\n",
       "    <tr>\n",
       "      <th>18</th>\n",
       "      <td>sales</td>\n",
       "      <td>low</td>\n",
       "      <td>1.0</td>\n",
       "      <td>277.333333</td>\n",
       "      <td>2.0</td>\n",
       "      <td>45.0</td>\n",
       "      <td>51.0</td>\n",
       "      <td>3.0</td>\n",
       "      <td>1.0</td>\n",
       "    </tr>\n",
       "    <tr>\n",
       "      <th>19</th>\n",
       "      <td>sales</td>\n",
       "      <td>low</td>\n",
       "      <td>1.0</td>\n",
       "      <td>290.333333</td>\n",
       "      <td>5.0</td>\n",
       "      <td>76.0</td>\n",
       "      <td>89.0</td>\n",
       "      <td>5.0</td>\n",
       "      <td>0.0</td>\n",
       "    </tr>\n",
       "    <tr>\n",
       "      <th>20</th>\n",
       "      <td>sales</td>\n",
       "      <td>low</td>\n",
       "      <td>1.0</td>\n",
       "      <td>270.000000</td>\n",
       "      <td>6.0</td>\n",
       "      <td>11.0</td>\n",
       "      <td>83.0</td>\n",
       "      <td>4.0</td>\n",
       "      <td>0.0</td>\n",
       "    </tr>\n",
       "    <tr>\n",
       "      <th>21</th>\n",
       "      <td>sales</td>\n",
       "      <td>low</td>\n",
       "      <td>1.0</td>\n",
       "      <td>265.333333</td>\n",
       "      <td>2.0</td>\n",
       "      <td>38.0</td>\n",
       "      <td>55.0</td>\n",
       "      <td>3.0</td>\n",
       "      <td>0.0</td>\n",
       "    </tr>\n",
       "    <tr>\n",
       "      <th>22</th>\n",
       "      <td>sales</td>\n",
       "      <td>low</td>\n",
       "      <td>1.0</td>\n",
       "      <td>262.333333</td>\n",
       "      <td>6.0</td>\n",
       "      <td>9.0</td>\n",
       "      <td>95.0</td>\n",
       "      <td>4.0</td>\n",
       "      <td>0.0</td>\n",
       "    </tr>\n",
       "    <tr>\n",
       "      <th>23</th>\n",
       "      <td>sales</td>\n",
       "      <td>low</td>\n",
       "      <td>1.0</td>\n",
       "      <td>265.000000</td>\n",
       "      <td>2.0</td>\n",
       "      <td>46.0</td>\n",
       "      <td>57.0</td>\n",
       "      <td>3.0</td>\n",
       "      <td>0.0</td>\n",
       "    </tr>\n",
       "    <tr>\n",
       "      <th>24</th>\n",
       "      <td>sales</td>\n",
       "      <td>low</td>\n",
       "      <td>1.0</td>\n",
       "      <td>275.666667</td>\n",
       "      <td>2.0</td>\n",
       "      <td>40.0</td>\n",
       "      <td>53.0</td>\n",
       "      <td>3.0</td>\n",
       "      <td>0.0</td>\n",
       "    </tr>\n",
       "    <tr>\n",
       "      <th>25</th>\n",
       "      <td>sales</td>\n",
       "      <td>low</td>\n",
       "      <td>1.0</td>\n",
       "      <td>274.666667</td>\n",
       "      <td>5.0</td>\n",
       "      <td>89.0</td>\n",
       "      <td>92.0</td>\n",
       "      <td>5.0</td>\n",
       "      <td>0.0</td>\n",
       "    </tr>\n",
       "    <tr>\n",
       "      <th>26</th>\n",
       "      <td>sales</td>\n",
       "      <td>low</td>\n",
       "      <td>1.0</td>\n",
       "      <td>276.000000</td>\n",
       "      <td>4.0</td>\n",
       "      <td>82.0</td>\n",
       "      <td>87.0</td>\n",
       "      <td>5.0</td>\n",
       "      <td>0.0</td>\n",
       "    </tr>\n",
       "    <tr>\n",
       "      <th>27</th>\n",
       "      <td>sales</td>\n",
       "      <td>low</td>\n",
       "      <td>1.0</td>\n",
       "      <td>278.333333</td>\n",
       "      <td>2.0</td>\n",
       "      <td>40.0</td>\n",
       "      <td>49.0</td>\n",
       "      <td>3.0</td>\n",
       "      <td>0.0</td>\n",
       "    </tr>\n",
       "    <tr>\n",
       "      <th>28</th>\n",
       "      <td>accounting</td>\n",
       "      <td>low</td>\n",
       "      <td>1.0</td>\n",
       "      <td>283.333333</td>\n",
       "      <td>2.0</td>\n",
       "      <td>41.0</td>\n",
       "      <td>46.0</td>\n",
       "      <td>3.0</td>\n",
       "      <td>0.0</td>\n",
       "    </tr>\n",
       "    <tr>\n",
       "      <th>29</th>\n",
       "      <td>accounting</td>\n",
       "      <td>low</td>\n",
       "      <td>1.0</td>\n",
       "      <td>281.000000</td>\n",
       "      <td>2.0</td>\n",
       "      <td>38.0</td>\n",
       "      <td>50.0</td>\n",
       "      <td>3.0</td>\n",
       "      <td>0.0</td>\n",
       "    </tr>\n",
       "    <tr>\n",
       "      <th>30</th>\n",
       "      <td>accounting</td>\n",
       "      <td>low</td>\n",
       "      <td>1.0</td>\n",
       "      <td>259.333333</td>\n",
       "      <td>6.0</td>\n",
       "      <td>9.0</td>\n",
       "      <td>62.0</td>\n",
       "      <td>4.0</td>\n",
       "      <td>0.0</td>\n",
       "    </tr>\n",
       "    <tr>\n",
       "      <th>31</th>\n",
       "      <td>hr</td>\n",
       "      <td>low</td>\n",
       "      <td>1.0</td>\n",
       "      <td>284.666667</td>\n",
       "      <td>2.0</td>\n",
       "      <td>45.0</td>\n",
       "      <td>57.0</td>\n",
       "      <td>3.0</td>\n",
       "      <td>0.0</td>\n",
       "    </tr>\n",
       "    <tr>\n",
       "      <th>32</th>\n",
       "      <td>hr</td>\n",
       "      <td>low</td>\n",
       "      <td>1.0</td>\n",
       "      <td>289.333333</td>\n",
       "      <td>2.0</td>\n",
       "      <td>40.0</td>\n",
       "      <td>51.0</td>\n",
       "      <td>3.0</td>\n",
       "      <td>0.0</td>\n",
       "    </tr>\n",
       "    <tr>\n",
       "      <th>33</th>\n",
       "      <td>hr</td>\n",
       "      <td>low</td>\n",
       "      <td>1.0</td>\n",
       "      <td>280.666667</td>\n",
       "      <td>2.0</td>\n",
       "      <td>45.0</td>\n",
       "      <td>55.0</td>\n",
       "      <td>3.0</td>\n",
       "      <td>0.0</td>\n",
       "    </tr>\n",
       "    <tr>\n",
       "      <th>34</th>\n",
       "      <td>hr</td>\n",
       "      <td>low</td>\n",
       "      <td>1.0</td>\n",
       "      <td>261.666667</td>\n",
       "      <td>4.0</td>\n",
       "      <td>84.0</td>\n",
       "      <td>87.0</td>\n",
       "      <td>6.0</td>\n",
       "      <td>0.0</td>\n",
       "    </tr>\n",
       "    <tr>\n",
       "      <th>35</th>\n",
       "      <td>technical</td>\n",
       "      <td>low</td>\n",
       "      <td>1.0</td>\n",
       "      <td>299.333333</td>\n",
       "      <td>6.0</td>\n",
       "      <td>10.0</td>\n",
       "      <td>94.0</td>\n",
       "      <td>4.0</td>\n",
       "      <td>0.0</td>\n",
       "    </tr>\n",
       "    <tr>\n",
       "      <th>36</th>\n",
       "      <td>technical</td>\n",
       "      <td>low</td>\n",
       "      <td>1.0</td>\n",
       "      <td>276.000000</td>\n",
       "      <td>2.0</td>\n",
       "      <td>38.0</td>\n",
       "      <td>46.0</td>\n",
       "      <td>3.0</td>\n",
       "      <td>0.0</td>\n",
       "    </tr>\n",
       "    <tr>\n",
       "      <th>37</th>\n",
       "      <td>technical</td>\n",
       "      <td>low</td>\n",
       "      <td>1.0</td>\n",
       "      <td>270.000000</td>\n",
       "      <td>2.0</td>\n",
       "      <td>45.0</td>\n",
       "      <td>50.0</td>\n",
       "      <td>3.0</td>\n",
       "      <td>0.0</td>\n",
       "    </tr>\n",
       "    <tr>\n",
       "      <th>38</th>\n",
       "      <td>technical</td>\n",
       "      <td>low</td>\n",
       "      <td>1.0</td>\n",
       "      <td>279.000000</td>\n",
       "      <td>6.0</td>\n",
       "      <td>11.0</td>\n",
       "      <td>89.0</td>\n",
       "      <td>4.0</td>\n",
       "      <td>0.0</td>\n",
       "    </tr>\n",
       "    <tr>\n",
       "      <th>39</th>\n",
       "      <td>technical</td>\n",
       "      <td>low</td>\n",
       "      <td>1.0</td>\n",
       "      <td>273.666667</td>\n",
       "      <td>2.0</td>\n",
       "      <td>41.0</td>\n",
       "      <td>54.0</td>\n",
       "      <td>3.0</td>\n",
       "      <td>0.0</td>\n",
       "    </tr>\n",
       "    <tr>\n",
       "      <th>40</th>\n",
       "      <td>technical</td>\n",
       "      <td>low</td>\n",
       "      <td>1.0</td>\n",
       "      <td>288.000000</td>\n",
       "      <td>5.0</td>\n",
       "      <td>87.0</td>\n",
       "      <td>88.0</td>\n",
       "      <td>5.0</td>\n",
       "      <td>0.0</td>\n",
       "    </tr>\n",
       "    <tr>\n",
       "      <th>41</th>\n",
       "      <td>technical</td>\n",
       "      <td>low</td>\n",
       "      <td>1.0</td>\n",
       "      <td>277.333333</td>\n",
       "      <td>2.0</td>\n",
       "      <td>45.0</td>\n",
       "      <td>48.0</td>\n",
       "      <td>3.0</td>\n",
       "      <td>0.0</td>\n",
       "    </tr>\n",
       "    <tr>\n",
       "      <th>42</th>\n",
       "      <td>technical</td>\n",
       "      <td>low</td>\n",
       "      <td>1.0</td>\n",
       "      <td>269.333333</td>\n",
       "      <td>2.0</td>\n",
       "      <td>40.0</td>\n",
       "      <td>46.0</td>\n",
       "      <td>3.0</td>\n",
       "      <td>0.0</td>\n",
       "    </tr>\n",
       "    <tr>\n",
       "      <th>43</th>\n",
       "      <td>technical</td>\n",
       "      <td>low</td>\n",
       "      <td>1.0</td>\n",
       "      <td>264.000000</td>\n",
       "      <td>7.0</td>\n",
       "      <td>10.0</td>\n",
       "      <td>80.0</td>\n",
       "      <td>4.0</td>\n",
       "      <td>0.0</td>\n",
       "    </tr>\n",
       "    <tr>\n",
       "      <th>44</th>\n",
       "      <td>technical</td>\n",
       "      <td>low</td>\n",
       "      <td>1.0</td>\n",
       "      <td>282.666667</td>\n",
       "      <td>6.0</td>\n",
       "      <td>9.0</td>\n",
       "      <td>89.0</td>\n",
       "      <td>4.0</td>\n",
       "      <td>0.0</td>\n",
       "    </tr>\n",
       "    <tr>\n",
       "      <th>45</th>\n",
       "      <td>technical</td>\n",
       "      <td>low</td>\n",
       "      <td>1.0</td>\n",
       "      <td>265.666667</td>\n",
       "      <td>3.0</td>\n",
       "      <td>84.0</td>\n",
       "      <td>74.0</td>\n",
       "      <td>4.0</td>\n",
       "      <td>0.0</td>\n",
       "    </tr>\n",
       "    <tr>\n",
       "      <th>46</th>\n",
       "      <td>support</td>\n",
       "      <td>low</td>\n",
       "      <td>1.0</td>\n",
       "      <td>294.000000</td>\n",
       "      <td>2.0</td>\n",
       "      <td>40.0</td>\n",
       "      <td>55.0</td>\n",
       "      <td>3.0</td>\n",
       "      <td>0.0</td>\n",
       "    </tr>\n",
       "    <tr>\n",
       "      <th>47</th>\n",
       "      <td>support</td>\n",
       "      <td>low</td>\n",
       "      <td>1.0</td>\n",
       "      <td>281.000000</td>\n",
       "      <td>3.0</td>\n",
       "      <td>57.0</td>\n",
       "      <td>70.0</td>\n",
       "      <td>6.0</td>\n",
       "      <td>0.0</td>\n",
       "    </tr>\n",
       "    <tr>\n",
       "      <th>48</th>\n",
       "      <td>support</td>\n",
       "      <td>low</td>\n",
       "      <td>1.0</td>\n",
       "      <td>286.000000</td>\n",
       "      <td>2.0</td>\n",
       "      <td>40.0</td>\n",
       "      <td>54.0</td>\n",
       "      <td>3.0</td>\n",
       "      <td>0.0</td>\n",
       "    </tr>\n",
       "    <tr>\n",
       "      <th>49</th>\n",
       "      <td>support</td>\n",
       "      <td>low</td>\n",
       "      <td>1.0</td>\n",
       "      <td>252.333333</td>\n",
       "      <td>2.0</td>\n",
       "      <td>43.0</td>\n",
       "      <td>47.0</td>\n",
       "      <td>3.0</td>\n",
       "      <td>0.0</td>\n",
       "    </tr>\n",
       "  </tbody>\n",
       "</table>\n",
       "</div>"
      ],
      "text/plain": [
       "    department  salary  left  mean_work_last_3_months  number_projects  \\\n",
       "0        sales     low   1.0               266.000000              2.0   \n",
       "1        sales  medium   1.0               252.000000              5.0   \n",
       "2        sales  medium   1.0               289.666667              7.0   \n",
       "3        sales     low   1.0               275.666667              5.0   \n",
       "4        sales     low   1.0               292.333333              2.0   \n",
       "5        sales     low   1.0               271.000000              2.0   \n",
       "6        sales     low   1.0               268.666667              6.0   \n",
       "7        sales     low   1.0               274.666667              5.0   \n",
       "8        sales     low   1.0               269.333333              5.0   \n",
       "9        sales     low   1.0               280.000000              2.0   \n",
       "10       sales     low   1.0               274.666667              2.0   \n",
       "11       sales     low   1.0               280.333333              6.0   \n",
       "12       sales     low   1.0               279.666667              4.0   \n",
       "13       sales     low   1.0               286.000000              2.0   \n",
       "14       sales     low   1.0               270.333333              2.0   \n",
       "15       sales     low   1.0               291.666667              2.0   \n",
       "16       sales     low   1.0               258.666667              2.0   \n",
       "17       sales     low   1.0               287.666667              4.0   \n",
       "18       sales     low   1.0               277.333333              2.0   \n",
       "19       sales     low   1.0               290.333333              5.0   \n",
       "20       sales     low   1.0               270.000000              6.0   \n",
       "21       sales     low   1.0               265.333333              2.0   \n",
       "22       sales     low   1.0               262.333333              6.0   \n",
       "23       sales     low   1.0               265.000000              2.0   \n",
       "24       sales     low   1.0               275.666667              2.0   \n",
       "25       sales     low   1.0               274.666667              5.0   \n",
       "26       sales     low   1.0               276.000000              4.0   \n",
       "27       sales     low   1.0               278.333333              2.0   \n",
       "28  accounting     low   1.0               283.333333              2.0   \n",
       "29  accounting     low   1.0               281.000000              2.0   \n",
       "30  accounting     low   1.0               259.333333              6.0   \n",
       "31          hr     low   1.0               284.666667              2.0   \n",
       "32          hr     low   1.0               289.333333              2.0   \n",
       "33          hr     low   1.0               280.666667              2.0   \n",
       "34          hr     low   1.0               261.666667              4.0   \n",
       "35   technical     low   1.0               299.333333              6.0   \n",
       "36   technical     low   1.0               276.000000              2.0   \n",
       "37   technical     low   1.0               270.000000              2.0   \n",
       "38   technical     low   1.0               279.000000              6.0   \n",
       "39   technical     low   1.0               273.666667              2.0   \n",
       "40   technical     low   1.0               288.000000              5.0   \n",
       "41   technical     low   1.0               277.333333              2.0   \n",
       "42   technical     low   1.0               269.333333              2.0   \n",
       "43   technical     low   1.0               264.000000              7.0   \n",
       "44   technical     low   1.0               282.666667              6.0   \n",
       "45   technical     low   1.0               265.666667              3.0   \n",
       "46     support     low   1.0               294.000000              2.0   \n",
       "47     support     low   1.0               281.000000              3.0   \n",
       "48     support     low   1.0               286.000000              2.0   \n",
       "49     support     low   1.0               252.333333              2.0   \n",
       "\n",
       "    satisfaction_level  last_evaluation  time_in_company  work_accident  \n",
       "0                 38.0             53.0              3.0            0.0  \n",
       "1                 80.0             86.0              6.0            0.0  \n",
       "2                 11.0             88.0              4.0            0.0  \n",
       "3                 72.0             87.0              5.0            0.0  \n",
       "4                 37.0             52.0              3.0            0.0  \n",
       "5                 41.0             50.0              3.0            0.0  \n",
       "6                 10.0             77.0              4.0            0.0  \n",
       "7                 92.0             85.0              5.0            0.0  \n",
       "8                 89.0            100.0              5.0            0.0  \n",
       "9                 42.0             53.0              3.0            0.0  \n",
       "10                45.0             54.0              3.0            0.0  \n",
       "11                11.0             81.0              4.0            0.0  \n",
       "12                84.0             92.0              5.0            0.0  \n",
       "13                41.0             55.0              3.0            0.0  \n",
       "14                36.0             56.0              3.0            0.0  \n",
       "15                38.0             54.0              3.0            0.0  \n",
       "16                45.0             47.0              3.0            0.0  \n",
       "17                78.0             99.0              6.0            0.0  \n",
       "18                45.0             51.0              3.0            1.0  \n",
       "19                76.0             89.0              5.0            0.0  \n",
       "20                11.0             83.0              4.0            0.0  \n",
       "21                38.0             55.0              3.0            0.0  \n",
       "22                 9.0             95.0              4.0            0.0  \n",
       "23                46.0             57.0              3.0            0.0  \n",
       "24                40.0             53.0              3.0            0.0  \n",
       "25                89.0             92.0              5.0            0.0  \n",
       "26                82.0             87.0              5.0            0.0  \n",
       "27                40.0             49.0              3.0            0.0  \n",
       "28                41.0             46.0              3.0            0.0  \n",
       "29                38.0             50.0              3.0            0.0  \n",
       "30                 9.0             62.0              4.0            0.0  \n",
       "31                45.0             57.0              3.0            0.0  \n",
       "32                40.0             51.0              3.0            0.0  \n",
       "33                45.0             55.0              3.0            0.0  \n",
       "34                84.0             87.0              6.0            0.0  \n",
       "35                10.0             94.0              4.0            0.0  \n",
       "36                38.0             46.0              3.0            0.0  \n",
       "37                45.0             50.0              3.0            0.0  \n",
       "38                11.0             89.0              4.0            0.0  \n",
       "39                41.0             54.0              3.0            0.0  \n",
       "40                87.0             88.0              5.0            0.0  \n",
       "41                45.0             48.0              3.0            0.0  \n",
       "42                40.0             46.0              3.0            0.0  \n",
       "43                10.0             80.0              4.0            0.0  \n",
       "44                 9.0             89.0              4.0            0.0  \n",
       "45                84.0             74.0              4.0            0.0  \n",
       "46                40.0             55.0              3.0            0.0  \n",
       "47                57.0             70.0              6.0            0.0  \n",
       "48                40.0             54.0              3.0            0.0  \n",
       "49                43.0             47.0              3.0            0.0  "
      ]
     },
     "execution_count": 5,
     "metadata": {},
     "output_type": "execute_result"
    }
   ],
   "source": [
    "df.head(50)"
   ]
  },
  {
   "cell_type": "markdown",
   "id": "fc2fa009",
   "metadata": {},
   "source": [
    "## 04 -  Organizando o dataset\n",
    "Agora nós vamos organizar nosso Dataset, ou seja, vamos definir qual coluna vai está em qual ordem. Só para ficar mais bonitinho:"
   ]
  },
  {
   "cell_type": "code",
   "execution_count": 6,
   "id": "2f5b7a35",
   "metadata": {},
   "outputs": [],
   "source": [
    "df = df[\n",
    "  [\n",
    "    'department',\n",
    "    'salary',\n",
    "    'mean_work_last_3_months',\n",
    "    'number_projects',\n",
    "    'satisfaction_level',\n",
    "    'last_evaluation',\n",
    "    'time_in_company',\n",
    "    'work_accident',\n",
    "    'left'\n",
    "  ]\n",
    "]"
   ]
  },
  {
   "cell_type": "code",
   "execution_count": 7,
   "id": "b95448bd",
   "metadata": {
    "scrolled": true
   },
   "outputs": [
    {
     "data": {
      "text/html": [
       "<div>\n",
       "<style scoped>\n",
       "    .dataframe tbody tr th:only-of-type {\n",
       "        vertical-align: middle;\n",
       "    }\n",
       "\n",
       "    .dataframe tbody tr th {\n",
       "        vertical-align: top;\n",
       "    }\n",
       "\n",
       "    .dataframe thead th {\n",
       "        text-align: right;\n",
       "    }\n",
       "</style>\n",
       "<table border=\"1\" class=\"dataframe\">\n",
       "  <thead>\n",
       "    <tr style=\"text-align: right;\">\n",
       "      <th></th>\n",
       "      <th>department</th>\n",
       "      <th>salary</th>\n",
       "      <th>mean_work_last_3_months</th>\n",
       "      <th>number_projects</th>\n",
       "      <th>satisfaction_level</th>\n",
       "      <th>last_evaluation</th>\n",
       "      <th>time_in_company</th>\n",
       "      <th>work_accident</th>\n",
       "      <th>left</th>\n",
       "    </tr>\n",
       "  </thead>\n",
       "  <tbody>\n",
       "    <tr>\n",
       "      <th>0</th>\n",
       "      <td>sales</td>\n",
       "      <td>low</td>\n",
       "      <td>266.000000</td>\n",
       "      <td>2.0</td>\n",
       "      <td>38.0</td>\n",
       "      <td>53.0</td>\n",
       "      <td>3.0</td>\n",
       "      <td>0.0</td>\n",
       "      <td>1.0</td>\n",
       "    </tr>\n",
       "    <tr>\n",
       "      <th>1</th>\n",
       "      <td>sales</td>\n",
       "      <td>medium</td>\n",
       "      <td>252.000000</td>\n",
       "      <td>5.0</td>\n",
       "      <td>80.0</td>\n",
       "      <td>86.0</td>\n",
       "      <td>6.0</td>\n",
       "      <td>0.0</td>\n",
       "      <td>1.0</td>\n",
       "    </tr>\n",
       "    <tr>\n",
       "      <th>2</th>\n",
       "      <td>sales</td>\n",
       "      <td>medium</td>\n",
       "      <td>289.666667</td>\n",
       "      <td>7.0</td>\n",
       "      <td>11.0</td>\n",
       "      <td>88.0</td>\n",
       "      <td>4.0</td>\n",
       "      <td>0.0</td>\n",
       "      <td>1.0</td>\n",
       "    </tr>\n",
       "    <tr>\n",
       "      <th>3</th>\n",
       "      <td>sales</td>\n",
       "      <td>low</td>\n",
       "      <td>275.666667</td>\n",
       "      <td>5.0</td>\n",
       "      <td>72.0</td>\n",
       "      <td>87.0</td>\n",
       "      <td>5.0</td>\n",
       "      <td>0.0</td>\n",
       "      <td>1.0</td>\n",
       "    </tr>\n",
       "    <tr>\n",
       "      <th>4</th>\n",
       "      <td>sales</td>\n",
       "      <td>low</td>\n",
       "      <td>292.333333</td>\n",
       "      <td>2.0</td>\n",
       "      <td>37.0</td>\n",
       "      <td>52.0</td>\n",
       "      <td>3.0</td>\n",
       "      <td>0.0</td>\n",
       "      <td>1.0</td>\n",
       "    </tr>\n",
       "  </tbody>\n",
       "</table>\n",
       "</div>"
      ],
      "text/plain": [
       "  department  salary  mean_work_last_3_months  number_projects  \\\n",
       "0      sales     low               266.000000              2.0   \n",
       "1      sales  medium               252.000000              5.0   \n",
       "2      sales  medium               289.666667              7.0   \n",
       "3      sales     low               275.666667              5.0   \n",
       "4      sales     low               292.333333              2.0   \n",
       "\n",
       "   satisfaction_level  last_evaluation  time_in_company  work_accident  left  \n",
       "0                38.0             53.0              3.0            0.0   1.0  \n",
       "1                80.0             86.0              6.0            0.0   1.0  \n",
       "2                11.0             88.0              4.0            0.0   1.0  \n",
       "3                72.0             87.0              5.0            0.0   1.0  \n",
       "4                37.0             52.0              3.0            0.0   1.0  "
      ]
     },
     "execution_count": 7,
     "metadata": {},
     "output_type": "execute_result"
    }
   ],
   "source": [
    "df.head()"
   ]
  },
  {
   "cell_type": "markdown",
   "id": "2b4fa52c",
   "metadata": {},
   "source": [
    "## 05 - Verificando os registros missing\n",
    "Bem, agora nós vamos iniciar a faze de Pré-Processamento dos dados. De início vamos ver se temos registros nulos:"
   ]
  },
  {
   "cell_type": "code",
   "execution_count": 8,
   "id": "65e92b9c",
   "metadata": {},
   "outputs": [
    {
     "data": {
      "text/plain": [
       "department                 1\n",
       "salary                     1\n",
       "mean_work_last_3_months    0\n",
       "number_projects            1\n",
       "satisfaction_level         1\n",
       "last_evaluation            1\n",
       "time_in_company            1\n",
       "work_accident              1\n",
       "left                       1\n",
       "dtype: int64"
      ]
     },
     "execution_count": 8,
     "metadata": {},
     "output_type": "execute_result"
    }
   ],
   "source": [
    "df.isnull().sum()"
   ]
  },
  {
   "cell_type": "markdown",
   "id": "19550b60",
   "metadata": {},
   "source": [
    "**NOTE:**  \n",
    "Veja que nós só temos um registro nulo.\n",
    "\n",
    "Uma maneira inteligente de ver qual é esse registro (ou amostra) é utilizar a função **notnull()** do Pandas que exibe apenas os registros (amostras) `não nulas`:"
   ]
  },
  {
   "cell_type": "code",
   "execution_count": 9,
   "id": "a6559f2c",
   "metadata": {},
   "outputs": [
    {
     "data": {
      "text/html": [
       "<div>\n",
       "<style scoped>\n",
       "    .dataframe tbody tr th:only-of-type {\n",
       "        vertical-align: middle;\n",
       "    }\n",
       "\n",
       "    .dataframe tbody tr th {\n",
       "        vertical-align: top;\n",
       "    }\n",
       "\n",
       "    .dataframe thead th {\n",
       "        text-align: right;\n",
       "    }\n",
       "</style>\n",
       "<table border=\"1\" class=\"dataframe\">\n",
       "  <thead>\n",
       "    <tr style=\"text-align: right;\">\n",
       "      <th></th>\n",
       "      <th>department</th>\n",
       "      <th>salary</th>\n",
       "      <th>mean_work_last_3_months</th>\n",
       "      <th>number_projects</th>\n",
       "      <th>satisfaction_level</th>\n",
       "      <th>last_evaluation</th>\n",
       "      <th>time_in_company</th>\n",
       "      <th>work_accident</th>\n",
       "      <th>left</th>\n",
       "    </tr>\n",
       "  </thead>\n",
       "  <tbody>\n",
       "    <tr>\n",
       "      <th>0</th>\n",
       "      <td>sales</td>\n",
       "      <td>low</td>\n",
       "      <td>266.000000</td>\n",
       "      <td>2.0</td>\n",
       "      <td>38.0</td>\n",
       "      <td>53.0</td>\n",
       "      <td>3.0</td>\n",
       "      <td>0.0</td>\n",
       "      <td>1.0</td>\n",
       "    </tr>\n",
       "    <tr>\n",
       "      <th>1</th>\n",
       "      <td>sales</td>\n",
       "      <td>medium</td>\n",
       "      <td>252.000000</td>\n",
       "      <td>5.0</td>\n",
       "      <td>80.0</td>\n",
       "      <td>86.0</td>\n",
       "      <td>6.0</td>\n",
       "      <td>0.0</td>\n",
       "      <td>1.0</td>\n",
       "    </tr>\n",
       "    <tr>\n",
       "      <th>2</th>\n",
       "      <td>sales</td>\n",
       "      <td>medium</td>\n",
       "      <td>289.666667</td>\n",
       "      <td>7.0</td>\n",
       "      <td>11.0</td>\n",
       "      <td>88.0</td>\n",
       "      <td>4.0</td>\n",
       "      <td>0.0</td>\n",
       "      <td>1.0</td>\n",
       "    </tr>\n",
       "    <tr>\n",
       "      <th>3</th>\n",
       "      <td>sales</td>\n",
       "      <td>low</td>\n",
       "      <td>275.666667</td>\n",
       "      <td>5.0</td>\n",
       "      <td>72.0</td>\n",
       "      <td>87.0</td>\n",
       "      <td>5.0</td>\n",
       "      <td>0.0</td>\n",
       "      <td>1.0</td>\n",
       "    </tr>\n",
       "    <tr>\n",
       "      <th>4</th>\n",
       "      <td>sales</td>\n",
       "      <td>low</td>\n",
       "      <td>292.333333</td>\n",
       "      <td>2.0</td>\n",
       "      <td>37.0</td>\n",
       "      <td>52.0</td>\n",
       "      <td>3.0</td>\n",
       "      <td>0.0</td>\n",
       "      <td>1.0</td>\n",
       "    </tr>\n",
       "    <tr>\n",
       "      <th>...</th>\n",
       "      <td>...</td>\n",
       "      <td>...</td>\n",
       "      <td>...</td>\n",
       "      <td>...</td>\n",
       "      <td>...</td>\n",
       "      <td>...</td>\n",
       "      <td>...</td>\n",
       "      <td>...</td>\n",
       "      <td>...</td>\n",
       "    </tr>\n",
       "    <tr>\n",
       "      <th>14995</th>\n",
       "      <td>support</td>\n",
       "      <td>low</td>\n",
       "      <td>253.333333</td>\n",
       "      <td>2.0</td>\n",
       "      <td>37.0</td>\n",
       "      <td>48.0</td>\n",
       "      <td>3.0</td>\n",
       "      <td>0.0</td>\n",
       "      <td>1.0</td>\n",
       "    </tr>\n",
       "    <tr>\n",
       "      <th>14996</th>\n",
       "      <td>support</td>\n",
       "      <td>low</td>\n",
       "      <td>288.000000</td>\n",
       "      <td>2.0</td>\n",
       "      <td>37.0</td>\n",
       "      <td>53.0</td>\n",
       "      <td>3.0</td>\n",
       "      <td>0.0</td>\n",
       "      <td>1.0</td>\n",
       "    </tr>\n",
       "    <tr>\n",
       "      <th>14997</th>\n",
       "      <td>support</td>\n",
       "      <td>low</td>\n",
       "      <td>272.000000</td>\n",
       "      <td>6.0</td>\n",
       "      <td>11.0</td>\n",
       "      <td>96.0</td>\n",
       "      <td>4.0</td>\n",
       "      <td>0.0</td>\n",
       "      <td>1.0</td>\n",
       "    </tr>\n",
       "    <tr>\n",
       "      <th>14998</th>\n",
       "      <td>support</td>\n",
       "      <td>low</td>\n",
       "      <td>276.666667</td>\n",
       "      <td>2.0</td>\n",
       "      <td>37.0</td>\n",
       "      <td>52.0</td>\n",
       "      <td>3.0</td>\n",
       "      <td>0.0</td>\n",
       "      <td>1.0</td>\n",
       "    </tr>\n",
       "    <tr>\n",
       "      <th>14999</th>\n",
       "      <td>NaN</td>\n",
       "      <td>NaN</td>\n",
       "      <td>261.000000</td>\n",
       "      <td>NaN</td>\n",
       "      <td>NaN</td>\n",
       "      <td>NaN</td>\n",
       "      <td>NaN</td>\n",
       "      <td>NaN</td>\n",
       "      <td>NaN</td>\n",
       "    </tr>\n",
       "  </tbody>\n",
       "</table>\n",
       "<p>15000 rows × 9 columns</p>\n",
       "</div>"
      ],
      "text/plain": [
       "      department  salary  mean_work_last_3_months  number_projects  \\\n",
       "0          sales     low               266.000000              2.0   \n",
       "1          sales  medium               252.000000              5.0   \n",
       "2          sales  medium               289.666667              7.0   \n",
       "3          sales     low               275.666667              5.0   \n",
       "4          sales     low               292.333333              2.0   \n",
       "...          ...     ...                      ...              ...   \n",
       "14995    support     low               253.333333              2.0   \n",
       "14996    support     low               288.000000              2.0   \n",
       "14997    support     low               272.000000              6.0   \n",
       "14998    support     low               276.666667              2.0   \n",
       "14999        NaN     NaN               261.000000              NaN   \n",
       "\n",
       "       satisfaction_level  last_evaluation  time_in_company  work_accident  \\\n",
       "0                    38.0             53.0              3.0            0.0   \n",
       "1                    80.0             86.0              6.0            0.0   \n",
       "2                    11.0             88.0              4.0            0.0   \n",
       "3                    72.0             87.0              5.0            0.0   \n",
       "4                    37.0             52.0              3.0            0.0   \n",
       "...                   ...              ...              ...            ...   \n",
       "14995                37.0             48.0              3.0            0.0   \n",
       "14996                37.0             53.0              3.0            0.0   \n",
       "14997                11.0             96.0              4.0            0.0   \n",
       "14998                37.0             52.0              3.0            0.0   \n",
       "14999                 NaN              NaN              NaN            NaN   \n",
       "\n",
       "       left  \n",
       "0       1.0  \n",
       "1       1.0  \n",
       "2       1.0  \n",
       "3       1.0  \n",
       "4       1.0  \n",
       "...     ...  \n",
       "14995   1.0  \n",
       "14996   1.0  \n",
       "14997   1.0  \n",
       "14998   1.0  \n",
       "14999   NaN  \n",
       "\n",
       "[15000 rows x 9 columns]"
      ]
     },
     "execution_count": 9,
     "metadata": {},
     "output_type": "execute_result"
    }
   ],
   "source": [
    "df[df.notnull()]"
   ]
  },
  {
   "cell_type": "markdown",
   "id": "7833a500",
   "metadata": {},
   "source": [
    "**NOTE:**  \n",
    "Veja que apenas o último registro está com dados faltantes. E mesmo assim ele ainda tem dados referentes a média de horas trabalhadas. Então, cabe a você pensar se esse dado é crucial ou não para a análise.\n",
    "\n",
    "Para nosso exemplo, vamos apenas excluir essa amostra, já que só tem ela:"
   ]
  },
  {
   "cell_type": "code",
   "execution_count": 10,
   "id": "42ea9765",
   "metadata": {},
   "outputs": [],
   "source": [
    "df = df[:14998]"
   ]
  },
  {
   "cell_type": "markdown",
   "id": "6345aae2",
   "metadata": {},
   "source": [
    "## 06 - Alterando os tipos de dados\n",
    "Agora nós vamos ver qual o tipo de dado em cada coluna (feature) do nosso Dataset. Para isso vamos primeiro utilizar o atributo **dtypes** do Pandas para fazer essa verificação:"
   ]
  },
  {
   "cell_type": "code",
   "execution_count": 11,
   "id": "ad4b91d4",
   "metadata": {},
   "outputs": [
    {
     "data": {
      "text/plain": [
       "department                  object\n",
       "salary                      object\n",
       "mean_work_last_3_months    float64\n",
       "number_projects            float64\n",
       "satisfaction_level         float64\n",
       "last_evaluation            float64\n",
       "time_in_company            float64\n",
       "work_accident              float64\n",
       "left                       float64\n",
       "dtype: object"
      ]
     },
     "execution_count": 11,
     "metadata": {},
     "output_type": "execute_result"
    }
   ],
   "source": [
    "df.dtypes"
   ]
  },
  {
   "cell_type": "markdown",
   "id": "b4abb470",
   "metadata": {},
   "source": [
    "Talvez os dados já estejam da maneira que nós precisamos, mas vou aplicar um Pré-Processamento bem básico só para vocês aprenderem como funciona na prática essa alteração de tipos de dados:"
   ]
  },
  {
   "cell_type": "code",
   "execution_count": 12,
   "id": "3bed250e",
   "metadata": {},
   "outputs": [],
   "source": [
    "df[\"number_projects\"] = df[\"number_projects\"].astype(int)\n",
    "df[\"mean_work_last_3_months\"] = df[\"mean_work_last_3_months\"].astype(int)\n",
    "df[\"time_in_company\"] = df[\"time_in_company\"].astype(int)\n",
    "df[\"work_accident\"] = df[\"work_accident\"].astype(int)\n",
    "df[\"left\"] = df[\"left\"].astype(int)"
   ]
  },
  {
   "cell_type": "markdown",
   "id": "78295b5a",
   "metadata": {},
   "source": [
    "**NOTE:**  \n",
    "Outra maneira de visualizar os tipos de dados e até ter uma visão mais global do nosso Dataset é utilizar a função **info()**.\n",
    "\n",
    "Vamos ver na prática como fica mais bonito:"
   ]
  },
  {
   "cell_type": "code",
   "execution_count": 13,
   "id": "d41aab97",
   "metadata": {},
   "outputs": [
    {
     "name": "stdout",
     "output_type": "stream",
     "text": [
      "<class 'pandas.core.frame.DataFrame'>\n",
      "RangeIndex: 14998 entries, 0 to 14997\n",
      "Data columns (total 9 columns):\n",
      " #   Column                   Non-Null Count  Dtype  \n",
      "---  ------                   --------------  -----  \n",
      " 0   department               14998 non-null  object \n",
      " 1   salary                   14998 non-null  object \n",
      " 2   mean_work_last_3_months  14998 non-null  int64  \n",
      " 3   number_projects          14998 non-null  int64  \n",
      " 4   satisfaction_level       14998 non-null  float64\n",
      " 5   last_evaluation          14998 non-null  float64\n",
      " 6   time_in_company          14998 non-null  int64  \n",
      " 7   work_accident            14998 non-null  int64  \n",
      " 8   left                     14998 non-null  int64  \n",
      "dtypes: float64(2), int64(5), object(2)\n",
      "memory usage: 1.0+ MB\n"
     ]
    }
   ],
   "source": [
    "df.info()"
   ]
  },
  {
   "cell_type": "code",
   "execution_count": 14,
   "id": "b3be9995",
   "metadata": {},
   "outputs": [
    {
     "data": {
      "text/html": [
       "<div>\n",
       "<style scoped>\n",
       "    .dataframe tbody tr th:only-of-type {\n",
       "        vertical-align: middle;\n",
       "    }\n",
       "\n",
       "    .dataframe tbody tr th {\n",
       "        vertical-align: top;\n",
       "    }\n",
       "\n",
       "    .dataframe thead th {\n",
       "        text-align: right;\n",
       "    }\n",
       "</style>\n",
       "<table border=\"1\" class=\"dataframe\">\n",
       "  <thead>\n",
       "    <tr style=\"text-align: right;\">\n",
       "      <th></th>\n",
       "      <th>department</th>\n",
       "      <th>salary</th>\n",
       "      <th>mean_work_last_3_months</th>\n",
       "      <th>number_projects</th>\n",
       "      <th>satisfaction_level</th>\n",
       "      <th>last_evaluation</th>\n",
       "      <th>time_in_company</th>\n",
       "      <th>work_accident</th>\n",
       "      <th>left</th>\n",
       "    </tr>\n",
       "  </thead>\n",
       "  <tbody>\n",
       "    <tr>\n",
       "      <th>0</th>\n",
       "      <td>sales</td>\n",
       "      <td>low</td>\n",
       "      <td>266</td>\n",
       "      <td>2</td>\n",
       "      <td>38.0</td>\n",
       "      <td>53.0</td>\n",
       "      <td>3</td>\n",
       "      <td>0</td>\n",
       "      <td>1</td>\n",
       "    </tr>\n",
       "    <tr>\n",
       "      <th>1</th>\n",
       "      <td>sales</td>\n",
       "      <td>medium</td>\n",
       "      <td>252</td>\n",
       "      <td>5</td>\n",
       "      <td>80.0</td>\n",
       "      <td>86.0</td>\n",
       "      <td>6</td>\n",
       "      <td>0</td>\n",
       "      <td>1</td>\n",
       "    </tr>\n",
       "    <tr>\n",
       "      <th>2</th>\n",
       "      <td>sales</td>\n",
       "      <td>medium</td>\n",
       "      <td>289</td>\n",
       "      <td>7</td>\n",
       "      <td>11.0</td>\n",
       "      <td>88.0</td>\n",
       "      <td>4</td>\n",
       "      <td>0</td>\n",
       "      <td>1</td>\n",
       "    </tr>\n",
       "    <tr>\n",
       "      <th>3</th>\n",
       "      <td>sales</td>\n",
       "      <td>low</td>\n",
       "      <td>275</td>\n",
       "      <td>5</td>\n",
       "      <td>72.0</td>\n",
       "      <td>87.0</td>\n",
       "      <td>5</td>\n",
       "      <td>0</td>\n",
       "      <td>1</td>\n",
       "    </tr>\n",
       "    <tr>\n",
       "      <th>4</th>\n",
       "      <td>sales</td>\n",
       "      <td>low</td>\n",
       "      <td>292</td>\n",
       "      <td>2</td>\n",
       "      <td>37.0</td>\n",
       "      <td>52.0</td>\n",
       "      <td>3</td>\n",
       "      <td>0</td>\n",
       "      <td>1</td>\n",
       "    </tr>\n",
       "  </tbody>\n",
       "</table>\n",
       "</div>"
      ],
      "text/plain": [
       "  department  salary  mean_work_last_3_months  number_projects  \\\n",
       "0      sales     low                      266                2   \n",
       "1      sales  medium                      252                5   \n",
       "2      sales  medium                      289                7   \n",
       "3      sales     low                      275                5   \n",
       "4      sales     low                      292                2   \n",
       "\n",
       "   satisfaction_level  last_evaluation  time_in_company  work_accident  left  \n",
       "0                38.0             53.0                3              0     1  \n",
       "1                80.0             86.0                6              0     1  \n",
       "2                11.0             88.0                4              0     1  \n",
       "3                72.0             87.0                5              0     1  \n",
       "4                37.0             52.0                3              0     1  "
      ]
     },
     "execution_count": 14,
     "metadata": {},
     "output_type": "execute_result"
    }
   ],
   "source": [
    "df.head()"
   ]
  },
  {
   "cell_type": "markdown",
   "id": "0732373c",
   "metadata": {},
   "source": [
    "## 07 - Renomeando atributos (Features)\n",
    "Bem, agora nós vamos renomear esses atributos (features) para ficar mais parecido com o nosso problema. Ou seja, vamos dar nomes mais limpos:"
   ]
  },
  {
   "cell_type": "code",
   "execution_count": 15,
   "id": "e51e02de",
   "metadata": {},
   "outputs": [],
   "source": [
    "df = df.rename(columns={\n",
    "  'satisfaction_level': 'satisfaction',\n",
    "  'last_evaluation': 'evaluation',\n",
    "  'number_projects': 'projectCount',\n",
    "  'mean_work_last_3_months': 'averageMonthlyHours',\n",
    "  'time_in_company': 'yearsAtCompany',\n",
    "  'work_accident': 'workAccident',\n",
    "  'left' : 'turnover'\n",
    "})"
   ]
  },
  {
   "cell_type": "code",
   "execution_count": 16,
   "id": "8df7f8fd",
   "metadata": {
    "scrolled": true
   },
   "outputs": [
    {
     "data": {
      "text/html": [
       "<div>\n",
       "<style scoped>\n",
       "    .dataframe tbody tr th:only-of-type {\n",
       "        vertical-align: middle;\n",
       "    }\n",
       "\n",
       "    .dataframe tbody tr th {\n",
       "        vertical-align: top;\n",
       "    }\n",
       "\n",
       "    .dataframe thead th {\n",
       "        text-align: right;\n",
       "    }\n",
       "</style>\n",
       "<table border=\"1\" class=\"dataframe\">\n",
       "  <thead>\n",
       "    <tr style=\"text-align: right;\">\n",
       "      <th></th>\n",
       "      <th>department</th>\n",
       "      <th>salary</th>\n",
       "      <th>averageMonthlyHours</th>\n",
       "      <th>projectCount</th>\n",
       "      <th>satisfaction</th>\n",
       "      <th>evaluation</th>\n",
       "      <th>yearsAtCompany</th>\n",
       "      <th>workAccident</th>\n",
       "      <th>turnover</th>\n",
       "    </tr>\n",
       "  </thead>\n",
       "  <tbody>\n",
       "    <tr>\n",
       "      <th>0</th>\n",
       "      <td>sales</td>\n",
       "      <td>low</td>\n",
       "      <td>266</td>\n",
       "      <td>2</td>\n",
       "      <td>38.0</td>\n",
       "      <td>53.0</td>\n",
       "      <td>3</td>\n",
       "      <td>0</td>\n",
       "      <td>1</td>\n",
       "    </tr>\n",
       "    <tr>\n",
       "      <th>1</th>\n",
       "      <td>sales</td>\n",
       "      <td>medium</td>\n",
       "      <td>252</td>\n",
       "      <td>5</td>\n",
       "      <td>80.0</td>\n",
       "      <td>86.0</td>\n",
       "      <td>6</td>\n",
       "      <td>0</td>\n",
       "      <td>1</td>\n",
       "    </tr>\n",
       "    <tr>\n",
       "      <th>2</th>\n",
       "      <td>sales</td>\n",
       "      <td>medium</td>\n",
       "      <td>289</td>\n",
       "      <td>7</td>\n",
       "      <td>11.0</td>\n",
       "      <td>88.0</td>\n",
       "      <td>4</td>\n",
       "      <td>0</td>\n",
       "      <td>1</td>\n",
       "    </tr>\n",
       "    <tr>\n",
       "      <th>3</th>\n",
       "      <td>sales</td>\n",
       "      <td>low</td>\n",
       "      <td>275</td>\n",
       "      <td>5</td>\n",
       "      <td>72.0</td>\n",
       "      <td>87.0</td>\n",
       "      <td>5</td>\n",
       "      <td>0</td>\n",
       "      <td>1</td>\n",
       "    </tr>\n",
       "    <tr>\n",
       "      <th>4</th>\n",
       "      <td>sales</td>\n",
       "      <td>low</td>\n",
       "      <td>292</td>\n",
       "      <td>2</td>\n",
       "      <td>37.0</td>\n",
       "      <td>52.0</td>\n",
       "      <td>3</td>\n",
       "      <td>0</td>\n",
       "      <td>1</td>\n",
       "    </tr>\n",
       "  </tbody>\n",
       "</table>\n",
       "</div>"
      ],
      "text/plain": [
       "  department  salary  averageMonthlyHours  projectCount  satisfaction  \\\n",
       "0      sales     low                  266             2          38.0   \n",
       "1      sales  medium                  252             5          80.0   \n",
       "2      sales  medium                  289             7          11.0   \n",
       "3      sales     low                  275             5          72.0   \n",
       "4      sales     low                  292             2          37.0   \n",
       "\n",
       "   evaluation  yearsAtCompany  workAccident  turnover  \n",
       "0        53.0               3             0         1  \n",
       "1        86.0               6             0         1  \n",
       "2        88.0               4             0         1  \n",
       "3        87.0               5             0         1  \n",
       "4        52.0               3             0         1  "
      ]
     },
     "execution_count": 16,
     "metadata": {},
     "output_type": "execute_result"
    }
   ],
   "source": [
    "df.head()"
   ]
  },
  {
   "cell_type": "markdown",
   "id": "dc0e78d7",
   "metadata": {},
   "source": [
    "# Análise Estatística\n",
    "Supondo que nós já aplicamos os Pré-Processamentos necessários, chegou a hora de aplicarmos conceitos estatísticos ao nosso conjunto de dados. Ou seja, fazer uma **Análise Estatística**."
   ]
  },
  {
   "cell_type": "markdown",
   "id": "43c38e9f",
   "metadata": {},
   "source": [
    "## 08 - Verificando o número de registros\n",
    "Na nossa análise estatística, vamos começar vendo as dimensões do nosso Dataset. Ou seja:\n",
    " - Quantos registros (amostras) tem nosso dataset;\n",
    " - E quantas colunas (features) tem nosso dataset."
   ]
  },
  {
   "cell_type": "code",
   "execution_count": 17,
   "id": "24295f99",
   "metadata": {},
   "outputs": [
    {
     "data": {
      "text/plain": [
       "(14998, 9)"
      ]
     },
     "execution_count": 17,
     "metadata": {},
     "output_type": "execute_result"
    }
   ],
   "source": [
    "df.shape"
   ]
  },
  {
   "cell_type": "markdown",
   "id": "25bdd58d",
   "metadata": {},
   "source": [
    "**NOTE:**  \n",
    "Vejam que nós temos 14998 registros (amostras) e 9 colunas (features)."
   ]
  },
  {
   "cell_type": "markdown",
   "id": "cee2382f",
   "metadata": {},
   "source": [
    "## 09 - Calculando a taxa de turnover\n",
    "Bem, agora chegou a hora de calcular o nosso **turnover**. Ou seja, vamos calcular a *Taxa de Rotatividade* dos Funcionários.\n",
    "\n",
    "> **Mas como fazer esse cálculo?**\n",
    "\n",
    "Não sei se vocês e lembram mas nós trocamos o nome da coluna (feature) **left** por **turnover**. Os dados dessa coluna estão binarizados **(Podemos dizer também que estão classificados)**:\n",
    "\n",
    " - **0 =** Para quem permanece na empresa;\n",
    " - **1 =** Para quem saiu da empresa.\n",
    "\n",
    "Agora vamos utilizar o método **value_counts()** do *pandas.Series.value_counts* que retorna quantas ocorrências acontecem de cada nessa *coluna (turnover)* em questão:"
   ]
  },
  {
   "cell_type": "code",
   "execution_count": 18,
   "id": "7e07844c",
   "metadata": {},
   "outputs": [
    {
     "data": {
      "text/plain": [
       "0    11428\n",
       "1     3570\n",
       "Name: turnover, dtype: int64"
      ]
     },
     "execution_count": 18,
     "metadata": {},
     "output_type": "execute_result"
    }
   ],
   "source": [
    "turnover_rate = df.turnover.value_counts()\n",
    "turnover_rate"
   ]
  },
  {
   "cell_type": "markdown",
   "id": "42119494",
   "metadata": {},
   "source": [
    "**NOTE:**  \n",
    "Ok, como nós sabíamos tinhamos *14998 funcionários (amostras)* cadastrados no total. Entre, esses *14998*:\n",
    "\n",
    " - Saíram *3570*.\n",
    " - E restaram 11428.\n",
    "\n",
    "> Agora, como eu posso aplicar um cálculo probabilistico para saber quanto porcento (%) dos funcionários saíram e quanto porcento (%) ficou na empresa?\n",
    "\n",
    "**NOTE:**  \n",
    "Esse cálculo é muito simples. Basta dividir o o número de funcionários que saíram e o número de funcionários que ficaram, separadamente, pelo número de funcionários totais (amostras totais):"
   ]
  },
  {
   "cell_type": "code",
   "execution_count": 19,
   "id": "1e944d05",
   "metadata": {},
   "outputs": [
    {
     "data": {
      "text/plain": [
       "0    0.761968\n",
       "1    0.238032\n",
       "Name: turnover, dtype: float64"
      ]
     },
     "execution_count": 19,
     "metadata": {},
     "output_type": "execute_result"
    }
   ],
   "source": [
    "turnover_rate = df.turnover.value_counts() / len(df)\n",
    "turnover_rate"
   ]
  },
  {
   "cell_type": "markdown",
   "id": "beea9a02",
   "metadata": {},
   "source": [
    "Bem, o nosso **turnover** foi o seguinte:\n",
    " - **76% dos funcionários permanecem na empresa:**\n",
    "   - Esses 76% é referente a 76% dos dados totais (100% ou 14998 amostras).\n",
    " - **23% dos funcionários saíram da empresa:**\n",
    "   - Esses 23% é referente a 23% dos dados totais (100% ou 14998 amostras)."
   ]
  },
  {
   "cell_type": "markdown",
   "id": "409ad3b2",
   "metadata": {},
   "source": [
    "## 10 - Overview estátistico dos dados\n",
    "Agora nós vamos utilizar a função **describe()** para ter uma visão geral das estatísticas de cada coluna (feature):"
   ]
  },
  {
   "cell_type": "code",
   "execution_count": 20,
   "id": "0027292f",
   "metadata": {},
   "outputs": [
    {
     "data": {
      "text/html": [
       "<div>\n",
       "<style scoped>\n",
       "    .dataframe tbody tr th:only-of-type {\n",
       "        vertical-align: middle;\n",
       "    }\n",
       "\n",
       "    .dataframe tbody tr th {\n",
       "        vertical-align: top;\n",
       "    }\n",
       "\n",
       "    .dataframe thead th {\n",
       "        text-align: right;\n",
       "    }\n",
       "</style>\n",
       "<table border=\"1\" class=\"dataframe\">\n",
       "  <thead>\n",
       "    <tr style=\"text-align: right;\">\n",
       "      <th></th>\n",
       "      <th>averageMonthlyHours</th>\n",
       "      <th>projectCount</th>\n",
       "      <th>satisfaction</th>\n",
       "      <th>evaluation</th>\n",
       "      <th>yearsAtCompany</th>\n",
       "      <th>workAccident</th>\n",
       "      <th>turnover</th>\n",
       "    </tr>\n",
       "  </thead>\n",
       "  <tbody>\n",
       "    <tr>\n",
       "      <th>count</th>\n",
       "      <td>14998.000000</td>\n",
       "      <td>14998.000000</td>\n",
       "      <td>14998.000000</td>\n",
       "      <td>14998.000000</td>\n",
       "      <td>14998.000000</td>\n",
       "      <td>14998.000000</td>\n",
       "      <td>14998.000000</td>\n",
       "    </tr>\n",
       "    <tr>\n",
       "      <th>mean</th>\n",
       "      <td>275.687225</td>\n",
       "      <td>3.803174</td>\n",
       "      <td>61.284971</td>\n",
       "      <td>71.611482</td>\n",
       "      <td>3.498266</td>\n",
       "      <td>0.144619</td>\n",
       "      <td>0.238032</td>\n",
       "    </tr>\n",
       "    <tr>\n",
       "      <th>std</th>\n",
       "      <td>10.059123</td>\n",
       "      <td>1.232546</td>\n",
       "      <td>24.863103</td>\n",
       "      <td>17.116733</td>\n",
       "      <td>1.460179</td>\n",
       "      <td>0.351728</td>\n",
       "      <td>0.425893</td>\n",
       "    </tr>\n",
       "    <tr>\n",
       "      <th>min</th>\n",
       "      <td>232.000000</td>\n",
       "      <td>2.000000</td>\n",
       "      <td>9.000000</td>\n",
       "      <td>36.000000</td>\n",
       "      <td>2.000000</td>\n",
       "      <td>0.000000</td>\n",
       "      <td>0.000000</td>\n",
       "    </tr>\n",
       "    <tr>\n",
       "      <th>25%</th>\n",
       "      <td>269.000000</td>\n",
       "      <td>3.000000</td>\n",
       "      <td>44.000000</td>\n",
       "      <td>56.000000</td>\n",
       "      <td>3.000000</td>\n",
       "      <td>0.000000</td>\n",
       "      <td>0.000000</td>\n",
       "    </tr>\n",
       "    <tr>\n",
       "      <th>50%</th>\n",
       "      <td>276.000000</td>\n",
       "      <td>4.000000</td>\n",
       "      <td>64.000000</td>\n",
       "      <td>72.000000</td>\n",
       "      <td>3.000000</td>\n",
       "      <td>0.000000</td>\n",
       "      <td>0.000000</td>\n",
       "    </tr>\n",
       "    <tr>\n",
       "      <th>75%</th>\n",
       "      <td>282.000000</td>\n",
       "      <td>5.000000</td>\n",
       "      <td>82.000000</td>\n",
       "      <td>87.000000</td>\n",
       "      <td>4.000000</td>\n",
       "      <td>0.000000</td>\n",
       "      <td>0.000000</td>\n",
       "    </tr>\n",
       "    <tr>\n",
       "      <th>max</th>\n",
       "      <td>321.000000</td>\n",
       "      <td>7.000000</td>\n",
       "      <td>100.000000</td>\n",
       "      <td>100.000000</td>\n",
       "      <td>10.000000</td>\n",
       "      <td>1.000000</td>\n",
       "      <td>1.000000</td>\n",
       "    </tr>\n",
       "  </tbody>\n",
       "</table>\n",
       "</div>"
      ],
      "text/plain": [
       "       averageMonthlyHours  projectCount  satisfaction    evaluation  \\\n",
       "count         14998.000000  14998.000000  14998.000000  14998.000000   \n",
       "mean            275.687225      3.803174     61.284971     71.611482   \n",
       "std              10.059123      1.232546     24.863103     17.116733   \n",
       "min             232.000000      2.000000      9.000000     36.000000   \n",
       "25%             269.000000      3.000000     44.000000     56.000000   \n",
       "50%             276.000000      4.000000     64.000000     72.000000   \n",
       "75%             282.000000      5.000000     82.000000     87.000000   \n",
       "max             321.000000      7.000000    100.000000    100.000000   \n",
       "\n",
       "       yearsAtCompany  workAccident      turnover  \n",
       "count    14998.000000  14998.000000  14998.000000  \n",
       "mean         3.498266      0.144619      0.238032  \n",
       "std          1.460179      0.351728      0.425893  \n",
       "min          2.000000      0.000000      0.000000  \n",
       "25%          3.000000      0.000000      0.000000  \n",
       "50%          3.000000      0.000000      0.000000  \n",
       "75%          4.000000      0.000000      0.000000  \n",
       "max         10.000000      1.000000      1.000000  "
      ]
     },
     "execution_count": 20,
     "metadata": {},
     "output_type": "execute_result"
    }
   ],
   "source": [
    "df.describe()"
   ]
  },
  {
   "cell_type": "markdown",
   "id": "3fbe56c5",
   "metadata": {},
   "source": [
    "## 11 - Overview estatístico por turnover\n",
    "\n",
    "Ok, agora nós vamos criar um **Overview (visão geral)** por grupos *(0 e 1)*. Mas que tipo de grupos são esses?\n",
    "\n",
    " - **0 =** Para quem permaneceu na empresa;\n",
    " - **1 =** Para quem saiu da empresa.\n",
    "\n",
    "**NOTE:**  \n",
    "Para isso nós vamos utilizar o método **grouby()** do Pandas para `agrupar` os dado. A *coluna (feature)* que nós vamos utilizar é a **\"turnover\"** que tem a classificação das pessoas que permaneceram na empresa (0) e as que saíram da empresa (1)."
   ]
  },
  {
   "cell_type": "code",
   "execution_count": 21,
   "id": "cd3384cf",
   "metadata": {},
   "outputs": [
    {
     "data": {
      "text/html": [
       "<div>\n",
       "<style scoped>\n",
       "    .dataframe tbody tr th:only-of-type {\n",
       "        vertical-align: middle;\n",
       "    }\n",
       "\n",
       "    .dataframe tbody tr th {\n",
       "        vertical-align: top;\n",
       "    }\n",
       "\n",
       "    .dataframe thead th {\n",
       "        text-align: right;\n",
       "    }\n",
       "</style>\n",
       "<table border=\"1\" class=\"dataframe\">\n",
       "  <thead>\n",
       "    <tr style=\"text-align: right;\">\n",
       "      <th></th>\n",
       "      <th>averageMonthlyHours</th>\n",
       "      <th>projectCount</th>\n",
       "      <th>satisfaction</th>\n",
       "      <th>evaluation</th>\n",
       "      <th>yearsAtCompany</th>\n",
       "      <th>workAccident</th>\n",
       "    </tr>\n",
       "    <tr>\n",
       "      <th>turnover</th>\n",
       "      <th></th>\n",
       "      <th></th>\n",
       "      <th></th>\n",
       "      <th></th>\n",
       "      <th></th>\n",
       "      <th></th>\n",
       "    </tr>\n",
       "  </thead>\n",
       "  <tbody>\n",
       "    <tr>\n",
       "      <th>0</th>\n",
       "      <td>275.734687</td>\n",
       "      <td>3.793490</td>\n",
       "      <td>64.330942</td>\n",
       "      <td>71.582079</td>\n",
       "      <td>3.382394</td>\n",
       "      <td>0.160396</td>\n",
       "    </tr>\n",
       "    <tr>\n",
       "      <th>1</th>\n",
       "      <td>275.535294</td>\n",
       "      <td>3.834174</td>\n",
       "      <td>51.534454</td>\n",
       "      <td>71.705602</td>\n",
       "      <td>3.869188</td>\n",
       "      <td>0.094118</td>\n",
       "    </tr>\n",
       "  </tbody>\n",
       "</table>\n",
       "</div>"
      ],
      "text/plain": [
       "          averageMonthlyHours  projectCount  satisfaction  evaluation  \\\n",
       "turnover                                                                \n",
       "0                  275.734687      3.793490     64.330942   71.582079   \n",
       "1                  275.535294      3.834174     51.534454   71.705602   \n",
       "\n",
       "          yearsAtCompany  workAccident  \n",
       "turnover                                \n",
       "0               3.382394      0.160396  \n",
       "1               3.869188      0.094118  "
      ]
     },
     "execution_count": 21,
     "metadata": {},
     "output_type": "execute_result"
    }
   ],
   "source": [
    "turnover_summary = df.groupby('turnover')\n",
    "turnover_summary.mean()"
   ]
  },
  {
   "cell_type": "markdown",
   "id": "3ec250ef",
   "metadata": {},
   "source": [
    "O que nós fizemos acima foi o seguinte:\n",
    "\n",
    " - Primeiro, `para cada coluna` nós separamos (agrupamos) os dados entre os grupos:\n",
    "   - **0 =** Que permaneceram na empresa;\n",
    "   - **1 =** Que saíram da empresa.\n",
    " - Segundo, nós salvamos essa separação (agrupamento) na variável **turnover_summary**.\n",
    " - Terceiro, por fim, nós exibimos a média de todas as colunas separadas por grupos (0 e 1).\n",
    "\n",
    "**NOTE:**  \n",
    "Essa separação que nós fizemos de cada coluna, separando entre os grupos 0 e 1 é o que conhecemos como **agrupamento**.\n",
    "\n",
    "\n",
    "O conjunto de dados tem:\n",
    "\n",
    "- 14.998 observações de empregados e 9 atributos.\n",
    "- A empresa tem uma rotatividade de 23% **(esses 23% foram os 23% que deixaram a empresa)**.\n",
    "- A satisfação *média* dos empregados é de 64%.\n",
    "-- A satisfação *média* dos empregados que deixaram a empresa é 51%."
   ]
  },
  {
   "cell_type": "markdown",
   "id": "a71d9da7",
   "metadata": {},
   "source": [
    "## 12 - Calculando a matriz de correlação\n",
    "Agora nós vamos verificar o **nível de correlação** entre cada coluna (feature):"
   ]
  },
  {
   "cell_type": "code",
   "execution_count": 22,
   "id": "983162db",
   "metadata": {},
   "outputs": [
    {
     "data": {
      "text/html": [
       "<div>\n",
       "<style scoped>\n",
       "    .dataframe tbody tr th:only-of-type {\n",
       "        vertical-align: middle;\n",
       "    }\n",
       "\n",
       "    .dataframe tbody tr th {\n",
       "        vertical-align: top;\n",
       "    }\n",
       "\n",
       "    .dataframe thead th {\n",
       "        text-align: right;\n",
       "    }\n",
       "</style>\n",
       "<table border=\"1\" class=\"dataframe\">\n",
       "  <thead>\n",
       "    <tr style=\"text-align: right;\">\n",
       "      <th></th>\n",
       "      <th>averageMonthlyHours</th>\n",
       "      <th>projectCount</th>\n",
       "      <th>satisfaction</th>\n",
       "      <th>evaluation</th>\n",
       "      <th>yearsAtCompany</th>\n",
       "      <th>workAccident</th>\n",
       "      <th>turnover</th>\n",
       "    </tr>\n",
       "  </thead>\n",
       "  <tbody>\n",
       "    <tr>\n",
       "      <th>averageMonthlyHours</th>\n",
       "      <td>1.000000</td>\n",
       "      <td>-0.009758</td>\n",
       "      <td>0.007879</td>\n",
       "      <td>-0.007301</td>\n",
       "      <td>0.004650</td>\n",
       "      <td>0.011919</td>\n",
       "      <td>-0.008442</td>\n",
       "    </tr>\n",
       "    <tr>\n",
       "      <th>projectCount</th>\n",
       "      <td>-0.009758</td>\n",
       "      <td>1.000000</td>\n",
       "      <td>-0.143080</td>\n",
       "      <td>0.349261</td>\n",
       "      <td>0.196767</td>\n",
       "      <td>-0.004781</td>\n",
       "      <td>0.014058</td>\n",
       "    </tr>\n",
       "    <tr>\n",
       "      <th>satisfaction</th>\n",
       "      <td>0.007879</td>\n",
       "      <td>-0.143080</td>\n",
       "      <td>1.000000</td>\n",
       "      <td>0.104955</td>\n",
       "      <td>-0.100892</td>\n",
       "      <td>0.058673</td>\n",
       "      <td>-0.219198</td>\n",
       "    </tr>\n",
       "    <tr>\n",
       "      <th>evaluation</th>\n",
       "      <td>-0.007301</td>\n",
       "      <td>0.349261</td>\n",
       "      <td>0.104955</td>\n",
       "      <td>1.000000</td>\n",
       "      <td>0.131571</td>\n",
       "      <td>-0.007136</td>\n",
       "      <td>0.003073</td>\n",
       "    </tr>\n",
       "    <tr>\n",
       "      <th>yearsAtCompany</th>\n",
       "      <td>0.004650</td>\n",
       "      <td>0.196767</td>\n",
       "      <td>-0.100892</td>\n",
       "      <td>0.131571</td>\n",
       "      <td>1.000000</td>\n",
       "      <td>0.002111</td>\n",
       "      <td>0.141984</td>\n",
       "    </tr>\n",
       "    <tr>\n",
       "      <th>workAccident</th>\n",
       "      <td>0.011919</td>\n",
       "      <td>-0.004781</td>\n",
       "      <td>0.058673</td>\n",
       "      <td>-0.007136</td>\n",
       "      <td>0.002111</td>\n",
       "      <td>1.000000</td>\n",
       "      <td>-0.080253</td>\n",
       "    </tr>\n",
       "    <tr>\n",
       "      <th>turnover</th>\n",
       "      <td>-0.008442</td>\n",
       "      <td>0.014058</td>\n",
       "      <td>-0.219198</td>\n",
       "      <td>0.003073</td>\n",
       "      <td>0.141984</td>\n",
       "      <td>-0.080253</td>\n",
       "      <td>1.000000</td>\n",
       "    </tr>\n",
       "  </tbody>\n",
       "</table>\n",
       "</div>"
      ],
      "text/plain": [
       "                     averageMonthlyHours  projectCount  satisfaction  \\\n",
       "averageMonthlyHours             1.000000     -0.009758      0.007879   \n",
       "projectCount                   -0.009758      1.000000     -0.143080   \n",
       "satisfaction                    0.007879     -0.143080      1.000000   \n",
       "evaluation                     -0.007301      0.349261      0.104955   \n",
       "yearsAtCompany                  0.004650      0.196767     -0.100892   \n",
       "workAccident                    0.011919     -0.004781      0.058673   \n",
       "turnover                       -0.008442      0.014058     -0.219198   \n",
       "\n",
       "                     evaluation  yearsAtCompany  workAccident  turnover  \n",
       "averageMonthlyHours   -0.007301        0.004650      0.011919 -0.008442  \n",
       "projectCount           0.349261        0.196767     -0.004781  0.014058  \n",
       "satisfaction           0.104955       -0.100892      0.058673 -0.219198  \n",
       "evaluation             1.000000        0.131571     -0.007136  0.003073  \n",
       "yearsAtCompany         0.131571        1.000000      0.002111  0.141984  \n",
       "workAccident          -0.007136        0.002111      1.000000 -0.080253  \n",
       "turnover               0.003073        0.141984     -0.080253  1.000000  "
      ]
     },
     "execution_count": 22,
     "metadata": {},
     "output_type": "execute_result"
    },
    {
     "data": {
      "image/png": "[encoded data removed]",
      "text/plain": [
       "<Figure size 432x288 with 2 Axes>"
      ]
     },
     "metadata": {
      "needs_background": "light"
     },
     "output_type": "display_data"
    }
   ],
   "source": [
    "corr = df.corr()\n",
    "corr = (corr)\n",
    "\n",
    "sns.heatmap(\n",
    "  corr,\n",
    "  xticklabels=corr.columns.values,\n",
    "  yticklabels=corr.columns.values\n",
    ")\n",
    "\n",
    "corr"
   ]
  },
  {
   "cell_type": "markdown",
   "id": "82b1a4f2",
   "metadata": {},
   "source": [
    "**NOTE:**  \n",
    "Vale salientar aqui, que é muito importante você fazer uma análise de mão dupla no gráfico assima:\n",
    " - Analisando quão forte é a relação entre as variáveis olhando para o gráfico;\n",
    " - E comparando as cores com os números da correlação de saída (Tabela numérica pandas):\n",
    "   - Quanto mais escuro, maior a correlação - Mais próximo de 2.\n",
    "   - Quanto mais claro, menor a correlação - Mais próximo de 1.\n",
    "\n",
    "#  Correlation Matrix & Heatmap\n",
    "Agora nós vamos analisar o nível de correlação entre as nossas variáveis (numéricas é claro):\n",
    "***\n",
    "**Atributos com uma correlação moderada positiva:** \n",
    "- projectCount vs evaluation: 0.34\n",
    "- yearsCompany vs projectCount: 0.19\n",
    "\n",
    "**Atributos com uma correlação moderada negativa:**\n",
    " - satisfaction vs turnover:  -0.21\n",
    "\n",
    "**Questões:**\n",
    "- Quais atributos afetam nossa variável alvo (turnover)?\n",
    "- Existem atributos com alta correlação entre eles?\n",
    "- Como podemos aprofundar para entender as correlações?\n",
    "\n",
    "**Resumo:**  \n",
    " - Existe uma **correlação positiva** entre os atributos projectCount e Evaluation.\n",
    " - Faz sentido que empregados que estão envolvidos em mais projetos, trabalham mais e tem melhor avaliação.\n",
    " - Existe uma **correlação negativa** entre os atributos satisfaction e turnover.\n",
    " - Podemos assumir que empregados que mais deixam a empresa estão menos satisfeitos."
   ]
  },
  {
   "cell_type": "markdown",
   "id": "75019b9c",
   "metadata": {},
   "source": [
    "## 13 - Analisando ás distribuições dos atributos: satisfaction, evaluation e averageMonthlyHours\n",
    "Agora nós vamos criar gráficos para analisar como estão distribuídos os atributos (features) **satisfaction**, **evaluation** e **averageMonthlyHours**:"
   ]
  },
  {
   "cell_type": "code",
   "execution_count": 24,
   "id": "e8bd189d",
   "metadata": {},
   "outputs": [
    {
     "data": {
      "image/png": "[encoded data removed]",
      "text/plain": [
       "<Figure size 1080x432 with 3 Axes>"
      ]
     },
     "metadata": {
      "needs_background": "light"
     },
     "output_type": "display_data"
    }
   ],
   "source": [
    "f, axes = plt.subplots(ncols=3, figsize=(15, 6))\n",
    "\n",
    "# Plota uma distribuição com o atributo \"satisfation\".\n",
    "sns.distplot(df.satisfaction, kde=False, color=\"g\", ax=axes[0]).set_title('Employee Satisfaction')\n",
    "axes[0].set_ylabel('Employee Count')\n",
    "\n",
    "# Plota uma distribuição com o atributo \"evaluation\".\n",
    "sns.distplot(df.evaluation, kde=False, color=\"r\", ax=axes[1]).set_title('Employee Evaluation')\n",
    "axes[1].set_ylabel('Employee Count')\n",
    "\n",
    "# Plota uma distribuição com o atributo \"averageMonthlyHours\".\n",
    "sns.distplot(df.averageMonthlyHours, kde=False, color=\"b\", ax=axes[2]).set_title('Employee Average Monthly Hours')\n",
    "axes[2].set_ylabel('Employee Count')\n",
    "\n",
    "\n",
    "plt.show() # Exibe o plot/plots"
   ]
  },
  {
   "cell_type": "markdown",
   "id": "a0bf11d5",
   "metadata": {},
   "source": [
    " - **Satisfaction** - Existe um pico de empregados com baixa satisfação mas a maior concentração está em 60 a 80.\n",
    " - **Evaluation** - Temos uma distribuição bimodal de empregados com avaliações baixas, menor que de 60 e altas, maior que 80.\n",
    " - **AverageMonthlyHours** - A concentração da quantidade de horas trabalhadas nos últimos 3 meses está ao redor da média em 275 horas.\n",
    " \n",
    "**Questões:** \n",
    " - Existe uma razão para o pico de empregados insatisfeitos?"
   ]
  },
  {
   "cell_type": "markdown",
   "id": "9811c0b2",
   "metadata": {},
   "source": [
    "## 14 - Verificando o turnover em relação ao salário\n",
    "Agora nós vamos analisar como está a relação de:\n",
    " - Funcionários que deixam a empresa;\n",
    " - E quanto eles ganham."
   ]
  },
  {
   "cell_type": "code",
   "execution_count": 25,
   "id": "00dee6b0",
   "metadata": {},
   "outputs": [
    {
     "data": {
      "image/png": "[encoded data removed]",
      "text/plain": [
       "<Figure size 1080x288 with 1 Axes>"
      ]
     },
     "metadata": {
      "needs_background": "light"
     },
     "output_type": "display_data"
    }
   ],
   "source": [
    "f, ax = plt.subplots(figsize=(15, 4))\n",
    "sns.countplot(y=\"salary\", hue='turnover', data=df).set_title('Employee Salary Turnover');"
   ]
  },
  {
   "cell_type": "markdown",
   "id": "fcc89e8b",
   "metadata": {},
   "source": [
    "**NOTE:**  \n",
    "Se por acaso você está um pouco consigo com **\"O que representa a barra azul?\"** e **\"O que representa a barra laranja?\"**. É muito simples, basta você dar uma olhadinha na **legenda (legend)** do gráfico que você vai ver:\n",
    "\n",
    " - **turnover:**\n",
    "   - 0 = Azul\n",
    "   - 1 = Laranja\n",
    " - Ou seja:\n",
    "   - 0 = Azul = Quem permaneceu na empresa;\n",
    "   - 1 = Laranja = Quem saiu/deixou a empresa.\n",
    "\n",
    "**Análise:**  \n",
    "- A maioria dos empregados que saíram tinha salário **baixo** ou **médio**.\n",
    " - Quase nenhum empregado com alto salário deixou a empresa.\n",
    " \n",
    "**Questões:** \n",
    " - Como é o ambiente de trabalho? Isso se difere por salário?\n",
    " - O que faz empregados com alto salário sairem da empresa."
   ]
  },
  {
   "cell_type": "markdown",
   "id": "bba947c9",
   "metadata": {},
   "source": [
    "## 15 - Verificando o turnover em relação departamento\n",
    "Agora nós vamos analisar o turnover em relação a cada Departamento da empresa. Ou seja, para cada departamento, qual teve mais saída de funcionários."
   ]
  },
  {
   "cell_type": "code",
   "execution_count": 26,
   "id": "190f670b",
   "metadata": {},
   "outputs": [
    {
     "data": {
      "image/png": "[encoded data removed]",
      "text/plain": [
       "<Figure size 1080x360 with 1 Axes>"
      ]
     },
     "metadata": {
      "needs_background": "light"
     },
     "output_type": "display_data"
    }
   ],
   "source": [
    "f, ax = plt.subplots(figsize=(15, 5)) # Configura o plot.\n",
    "\n",
    "# Define uma lista de cores (RBG) para cada departamento.\n",
    "color_types = [\n",
    "  '#78C850','#F08030','#6890F0','#A8B820','#A8A878','#A040A0','#F8D030','#E0C068',\n",
    "  '#EE99AC','#C03028','#F85888','#B8A038','#705898','#98D8D8','#7038F8'\n",
    "]\n",
    "\n",
    "plt.xticks(rotation=-45)\n",
    "\n",
    "sns.countplot(x='department', data=df, palette=color_types).set_title('Distribuição de Departamentos');"
   ]
  },
  {
   "cell_type": "markdown",
   "id": "38aa5ea3",
   "metadata": {},
   "source": [
    "**NOTE:**  \n",
    "As barras acima mostram o número de funcionários para cada departamento. Você pode ver que o departamento **\"sales\"** é o que tem mais funcionários.\n",
    "\n",
    "Agora nós vamos comparar (analisar) para cada departamento o nível de turnover:"
   ]
  },
  {
   "cell_type": "code",
   "execution_count": 27,
   "id": "b4ff4090",
   "metadata": {
    "scrolled": true
   },
   "outputs": [
    {
     "data": {
      "image/png": "[encoded data removed]",
      "text/plain": [
       "<Figure size 1080x360 with 1 Axes>"
      ]
     },
     "metadata": {
      "needs_background": "light"
     },
     "output_type": "display_data"
    }
   ],
   "source": [
    "f, ax = plt.subplots(figsize=(15, 5)) # Configura o plot.\n",
    "\n",
    "sns.countplot(y=\"department\", hue='turnover', data=df).set_title('Departamento vs Turnover');"
   ]
  },
  {
   "cell_type": "markdown",
   "id": "cad7fb7c",
   "metadata": {},
   "source": [
    " - Os departamentos de vendas, técnico e suporte são top 3 departamentos com maior índice de turnover.\n",
    " - O departamento management tem o menor volume de turnover.\n",
    "\n",
    "**Questões:** \n",
    " - Será que examinar em profundidade os departamentos que tem maior índice de turnover e o menor pode nos revelar mais    informações importantes?\n",
    " - Qual o salário nestes departamentos?"
   ]
  },
  {
   "cell_type": "markdown",
   "id": "321d0488",
   "metadata": {},
   "source": [
    "## 16 - Verificando o turnover em relação ao número de projetos\n",
    "Agora nós vamos analisar a relação de turnover com número de projetos:"
   ]
  },
  {
   "cell_type": "code",
   "execution_count": 28,
   "id": "ecc1ed70",
   "metadata": {},
   "outputs": [
    {
     "data": {
      "text/plain": [
       "[]"
      ]
     },
     "execution_count": 28,
     "metadata": {},
     "output_type": "execute_result"
    },
    {
     "data": {
      "image/png": "[encoded data removed]",
      "text/plain": [
       "<Figure size 576x288 with 1 Axes>"
      ]
     },
     "metadata": {
      "needs_background": "light"
     },
     "output_type": "display_data"
    }
   ],
   "source": [
    "fig = plt.figure(figsize=(8,4),) # Configura o plot.\n",
    "\n",
    "ax = sns.barplot(\n",
    "  x=\"projectCount\",\n",
    "  y=\"projectCount\",\n",
    "  hue=\"turnover\",\n",
    "  data=df,\n",
    "  estimator=lambda x: len(x) / len(df) * 100\n",
    ")\n",
    "\n",
    "ax.set(ylabel=\"Percent\")\n",
    "plt.title('Turnover vs número de projetos')\n",
    "plt.plot()"
   ]
  },
  {
   "cell_type": "markdown",
   "id": "eadc8119",
   "metadata": {},
   "source": [
    " - Mais da metade dos empregados com **2,6 e 7 projetos** deixam a empresa.\n",
    " - A maioria dos empregados que permancem na empresa estão envolvidos de **3 à 5 projetos**.\n",
    " - Todos os empregados que estavam inseridos **7 projetos** deixaram a empresa.\n",
    " - Existe uma pequena **tendência de crescimento no índice de turnover** em relação à quantidade de projetos.\n",
    " \n",
    "**Questões:**\n",
    " - Porque os empregados estão deixando a empresa em relação a quantidade de projetos ?\n",
    " - Será que faz sentido pensar que empregados envolvidos em 2 ou menos projetos estão desmotivados e por isso deixam a empresa?\n",
    " - Será que empregados envolvidos em mais que 6 projetos se sintam sobrecarregados e deixam a empresa?"
   ]
  },
  {
   "cell_type": "markdown",
   "id": "c973f50a",
   "metadata": {},
   "source": [
    "## 17 - Verificando o turnover em relação a nota de avaliação"
   ]
  },
  {
   "cell_type": "code",
   "execution_count": 29,
   "id": "6f2257dc",
   "metadata": {},
   "outputs": [
    {
     "data": {
      "text/plain": [
       "[]"
      ]
     },
     "execution_count": 29,
     "metadata": {},
     "output_type": "execute_result"
    },
    {
     "data": {
      "image/png": "[encoded data removed]",
      "text/plain": [
       "<Figure size 1080x288 with 1 Axes>"
      ]
     },
     "metadata": {
      "needs_background": "light"
     },
     "output_type": "display_data"
    }
   ],
   "source": [
    "fig = plt.figure(figsize=(15,4),) # Configura o plot.\n",
    "\n",
    "# Basicamente o que você precisa sabe aqui é que:\n",
    "# - Estamos utilizando a função loc() para fazer tipo uma relação entre turnover = 0 e coluna \"satisfaction\".\n",
    "# - Essa representação no gráfico vai ser com uma linha azul = b = blue.\n",
    "ax=sns.kdeplot(df.loc[(df['turnover'] == 0),'evaluation'] , color='b',shade=True, label='no turnover')\n",
    "\n",
    "# Basicamente o que você precisa sabe aqui é que:\n",
    "# - Estamos utilizando a função loc() para fazer tipo uma relação entre turnover = 1 e coluna \"satisfaction\".\n",
    "# - Essa representação no gráfico vai ser com uma linha vermelha = r = red.\n",
    "ax=sns.kdeplot(df.loc[(df['turnover'] == 1),'evaluation'] , color='r',shade=True, label='turnover')\n",
    "\n",
    "ax.set(xlabel='Employee Evaluation', ylabel='Frequency')\n",
    "plt.title('Distribuição da Nota de Avaliação do Empregado - Turnover V.S. No Turnover')\n",
    "plt.plot()"
   ]
  },
  {
   "cell_type": "markdown",
   "id": "c232e355",
   "metadata": {},
   "source": [
    " - Temos uma distribuição bimodal para o conjunto que deixou a empresa.\n",
    " - Colaboradores com **baixa performance** tendem a deixar a empresa.\n",
    " - Colaboradores com **alta performance** tendem a deixar a empresa.\n",
    " - O **ponto ideal** para os funcionários que permaneceram está dentro da avaliação de 60 à 80."
   ]
  },
  {
   "cell_type": "markdown",
   "id": "55bc50a4",
   "metadata": {},
   "source": [
    "## 18 - Verificando o turnover em relação a satisfação do empregado"
   ]
  },
  {
   "cell_type": "code",
   "execution_count": 30,
   "id": "785b0bd0",
   "metadata": {},
   "outputs": [
    {
     "data": {
      "text/plain": [
       "[]"
      ]
     },
     "execution_count": 30,
     "metadata": {},
     "output_type": "execute_result"
    },
    {
     "data": {
      "image/png": "[encoded data removed]",
      "text/plain": [
       "<Figure size 1080x288 with 1 Axes>"
      ]
     },
     "metadata": {
      "needs_background": "light"
     },
     "output_type": "display_data"
    }
   ],
   "source": [
    "fig = plt.figure(figsize=(15,4)) # Configura o plot.\n",
    "\n",
    "# Basicamente o que você precisa sabe aqui é que:\n",
    "# - Estamos utilizando a função loc() para fazer tipo uma relação entre turnover = 0 e coluna \"satisfaction\".\n",
    "# - Essa representação no gráfico vai ser com uma linha azul = b = blue.\n",
    "ax=sns.kdeplot(df.loc[(df['turnover'] == 0),'satisfaction'] , color='b',shade=True, label='no turnover')\n",
    "\n",
    "# Basicamente o que você precisa sabe aqui é que:\n",
    "# - Estamos utilizando a função loc() para fazer tipo uma relação entre turnover = 1 e coluna \"satisfaction\".\n",
    "# - Essa representação no gráfico vai ser com uma linha vermelha = r = red.\n",
    "ax=sns.kdeplot(df.loc[(df['turnover'] == 1),'satisfaction'] , color='r',shade=True, label='turnover')\n",
    "\n",
    "plt.title('Distribuição da Satisfação do Empregado - Turnover V.S. No Turnover')\n",
    "plt.plot()"
   ]
  },
  {
   "cell_type": "markdown",
   "id": "a0c7cdab",
   "metadata": {},
   "source": [
    " - Empregados com o nível de satisfação em 20 ou menos tendem a deixar a empresa.\n",
    " - Empregados com o nível de satisfação em até 50 tem maior probabilidade de deixar a empresa."
   ]
  },
  {
   "cell_type": "markdown",
   "id": "60a68ce2",
   "metadata": {},
   "source": [
    "## 19 - Verificando a relação entre número de projetos e a nota de avaliação do empregado"
   ]
  },
  {
   "cell_type": "code",
   "execution_count": 31,
   "id": "2971ee48",
   "metadata": {
    "scrolled": false
   },
   "outputs": [
    {
     "data": {
      "image/png": "[encoded data removed]",
      "text/plain": [
       "<Figure size 864x576 with 1 Axes>"
      ]
     },
     "metadata": {
      "needs_background": "light"
     },
     "output_type": "display_data"
    }
   ],
   "source": [
    "fig = plt.figure(figsize=(12, 8)) # Configura o plot.\n",
    "\n",
    "import seaborn as sns\n",
    "sns.boxplot(x=\"projectCount\", y=\"evaluation\", hue=\"turnover\", data=df)\n",
    "plt.title(\"Número de projetos e Nota de Avaliação\")\n",
    "plt.show()"
   ]
  },
  {
   "cell_type": "markdown",
   "id": "2350d7f3",
   "metadata": {},
   "source": [
    "**Resumo:** \n",
    "- Há um **aumento na avaliação** para os funcionários que realizaram mais projetos dentro do grupo de quem deixou a empresa. \n",
    "- Para o grupo de pessoas que permaneceram na empresa, os empregados tiveram uma **pontuação de avaliação consistente**, apesar do aumento nas contagens de projetos.\n",
    "- Empregados que permaneceram na empresa tiveram uma **avaliação média em torno de 70%**, mesmo com o número de projetos crescendo.\n",
    "- Esta relação muda drasticamente entre os empregados que deixaram a empresa. A partir de 3 projetos, as **médias de avaliação aumentam consideravelmente**.\n",
    "- Empregados que tinham **dois projetos e uma péssima avaliação** saíram.\n",
    "- Empregados com **mais de 3 projetos e avaliações altas** deixaram a empresa.\n",
    "\n",
    "**Questões:**\n",
    "  - Por que será que os funcionários que saíram tiveram em média uma avaliação superior aos funcionários que não saíram, mesmo com um aumento no número de projetos?\n",
    "  - Os funcionários com avaliações mais baixas não deveriam ter tendência a sair mais da empresa?"
   ]
  },
  {
   "cell_type": "markdown",
   "id": "0ba1ce0b",
   "metadata": {},
   "source": [
    "## 20 - Verificando a relação entre a satisfação do empregado e a sua avaliação"
   ]
  },
  {
   "cell_type": "code",
   "execution_count": 32,
   "id": "5bdc28ee",
   "metadata": {
    "scrolled": false
   },
   "outputs": [
    {
     "data": {
      "text/plain": [
       "<seaborn.axisgrid.FacetGrid at 0x7fe4f5bfebb0>"
      ]
     },
     "execution_count": 32,
     "metadata": {},
     "output_type": "execute_result"
    },
    {
     "data": {
      "image/png": "[encoded data removed]",
      "text/plain": [
       "<Figure size 410.75x360 with 1 Axes>"
      ]
     },
     "metadata": {
      "needs_background": "light"
     },
     "output_type": "display_data"
    }
   ],
   "source": [
    "sns.lmplot(\n",
    "  x = 'satisfaction', \n",
    "  y = 'evaluation', \n",
    "  data = df,\n",
    "  fit_reg = False,\n",
    "  hue='turnover'\n",
    ")"
   ]
  },
  {
   "cell_type": "markdown",
   "id": "81bd878f",
   "metadata": {},
   "source": [
    "**Resumo:**: Temos aqui 3 grupos distintos de empregados.\n",
    " \n",
    "**Cluster 1 (Empregados insatisfeitos e trabalhadores):** A satisfação foi inferior a 20 e as avaliações foram superiores a 75. \n",
    "- O que pode ser uma boa indicação de que os funcionários que deixaram a empresa eram bons trabalhadores, mas se sentiam péssimos no trabalho.\n",
    "\n",
    "Questões: \n",
    " - Qual poderia ser o motivo de se sentir tão mal quando você é altamente avaliado? \n",
    " - Será que está trabalhando muito? \n",
    " - Esse cluster poderia significar funcionários que estão \"sobrecarregados\"? \n",
    " \n",
    "**Cluster 2 (Empregados ruins e insatisfeitos):** Satisfação entre 35 à 50 e as suas avaliações abaixo de ~ 58. \n",
    "\n",
    "Questões:\n",
    "- Isso pode ser visto como funcionários que foram mal avaliados e se sentiram mal no trabalho.\n",
    "- Podemos chamar esse grupo de baixo desempenho?\n",
    "\n",
    "**Cluster 3 (Empregados satisfeitos e trabalhadores):** Satisfação entre 75 à 90 e avaliações superiores a 80. \n",
    "- O que poderia significar que os funcionários neste grupo eram \"ideais\". \n",
    "- Eles amavam seu trabalho e eram altamente avaliados por seu desempenho.\n",
    "\n",
    "**Questões:** \n",
    "- Este grupo pode representar os empregados que deixaram a empresa porque encontraram outra oportunidade de trabalho?\n",
    "- Poderiamos ter mais do que 3 clusters?"
   ]
  },
  {
   "cell_type": "markdown",
   "id": "a7c401aa",
   "metadata": {},
   "source": [
    "## 21 - Computando os clusters"
   ]
  },
  {
   "cell_type": "markdown",
   "id": "0971cd9d",
   "metadata": {},
   "source": [
    "#### Importando a biblioteca Scikit-learn"
   ]
  },
  {
   "cell_type": "code",
   "execution_count": 33,
   "id": "6a93abef",
   "metadata": {},
   "outputs": [],
   "source": [
    "from sklearn.cluster import KMeans"
   ]
  },
  {
   "cell_type": "markdown",
   "id": "ef70fe8d",
   "metadata": {},
   "source": [
    "#### Inicializando os clusters"
   ]
  },
  {
   "cell_type": "code",
   "execution_count": 34,
   "id": "8a8d7310",
   "metadata": {},
   "outputs": [],
   "source": [
    "kmeans = KMeans(n_clusters=3,random_state=2) # KMeans instance."
   ]
  },
  {
   "cell_type": "markdown",
   "id": "9c9acff3",
   "metadata": {},
   "source": [
    "#### Definindo o conjunto de dados\n",
    "Aqui nós vamos definir que vamos trabalhar, apenas, com os dados de quem saiu da empresa:"
   ]
  },
  {
   "cell_type": "code",
   "execution_count": 35,
   "id": "6ac91dcf",
   "metadata": {},
   "outputs": [],
   "source": [
    "df_turnover = df[df.turnover==1][[\"satisfaction\",\"evaluation\"]]"
   ]
  },
  {
   "cell_type": "markdown",
   "id": "174eda93",
   "metadata": {},
   "source": [
    "#### Computando os clusters"
   ]
  },
  {
   "cell_type": "code",
   "execution_count": 36,
   "id": "724a0d6a",
   "metadata": {
    "scrolled": true
   },
   "outputs": [
    {
     "data": {
      "text/plain": [
       "KMeans(n_clusters=3, random_state=2)"
      ]
     },
     "execution_count": 36,
     "metadata": {},
     "output_type": "execute_result"
    }
   ],
   "source": [
    "kmeans.fit(df_turnover) # Treina o modelo."
   ]
  },
  {
   "cell_type": "code",
   "execution_count": 37,
   "id": "29b35283",
   "metadata": {},
   "outputs": [],
   "source": [
    "kmeans_colors = ['green' if c == 0 else 'red' if c == 1 else 'blue' for c in kmeans.labels_]"
   ]
  },
  {
   "cell_type": "code",
   "execution_count": 38,
   "id": "ca724249",
   "metadata": {
    "scrolled": false
   },
   "outputs": [
    {
     "data": {
      "image/png": "[encoded data removed]",
      "text/plain": [
       "<Figure size 720x432 with 1 Axes>"
      ]
     },
     "metadata": {
      "needs_background": "light"
     },
     "output_type": "display_data"
    }
   ],
   "source": [
    "fig = plt.figure(figsize=(10, 6))\n",
    "\n",
    "plt.scatter(\n",
    "  x=\"satisfaction\",\n",
    "  y=\"evaluation\",\n",
    "  data=df_turnover,\n",
    "  alpha=0.25,\n",
    "  color = kmeans_colors\n",
    ")\n",
    "\n",
    "plt.xlabel(\"Satisfaction\")\n",
    "plt.ylabel(\"Evaluation\")\n",
    "\n",
    "plt.scatter(\n",
    "  x=kmeans.cluster_centers_[:,0],\n",
    "  y=kmeans.cluster_centers_[:,1],\n",
    "  color=\"black\",\n",
    "  marker=\"X\",s=100\n",
    ")\n",
    "\n",
    "plt.title(\"Grupos de Empregados - Satisfação vs Avaliação.\")\n",
    "plt.show()"
   ]
  },
  {
   "cell_type": "markdown",
   "id": "5f761e4c",
   "metadata": {},
   "source": [
    "## K-Means Grupos\n",
    "***\n",
    "**Cluster 0 (Verde):** Empregados trabalhadores e satisfeitos.\n",
    "\n",
    "**Cluster 1 (Vermelho):** Empregados ruins e insatisfeitos. \n",
    "\n",
    "**Cluster 2 (Azul):** Empregados trabalhadores e tristes."
   ]
  },
  {
   "cell_type": "markdown",
   "id": "44cae868",
   "metadata": {},
   "source": [
    "## 22 - Verificando a relação entre o tempo de empresa e o turnover\n",
    "Agora nós vamos fazer uma análise que vai verificar:\n",
    "\n",
    "> **Se os funcionários que mais sai da empresa são os que tem *mais* ou *menos* tempo na empresa?**"
   ]
  },
  {
   "cell_type": "code",
   "execution_count": 39,
   "id": "9040de49",
   "metadata": {},
   "outputs": [
    {
     "data": {
      "image/png": "[encoded data removed]",
      "text/plain": [
       "<Figure size 720x432 with 1 Axes>"
      ]
     },
     "metadata": {
      "needs_background": "light"
     },
     "output_type": "display_data"
    }
   ],
   "source": [
    "fig = plt.figure(figsize=(10, 6))\n",
    "\n",
    "ax = sns.barplot(\n",
    "  x=\"yearsAtCompany\",\n",
    "  y=\"yearsAtCompany\",\n",
    "  hue=\"turnover\",\n",
    "  data=df,\n",
    "  estimator=lambda x: len(x) / len(df) * 100\n",
    ")\n",
    "ax.set(ylabel=\"Percent\")\n",
    "plt.title(\"Turnover V.S. YearsAtCompany\")\n",
    "plt.show()"
   ]
  },
  {
   "cell_type": "markdown",
   "id": "f38e8004",
   "metadata": {},
   "source": [
    "##  Turnover V.S. YearsAtCompany \n",
    "***\n",
    "**Resumo:** Vamos ver mais alguns pontos para entender o porque os empregados deixam a empresa.\n",
    " - Empregados com **4 e 5 anos de casa** deixaram a empresa.\n",
    " - Empregados acima de **5 anos de casa** devem ser examinados.\n",
    " \n",
    "**Questões:**\n",
    "  - Por que os Empregados estão saindo principalmente na faixa de 3-5 anos?\n",
    "  - Quem são esses Empregados que saíram?"
   ]
  },
  {
   "cell_type": "markdown",
   "id": "857c5054",
   "metadata": {},
   "source": [
    "## 23 - Carregando os artefatos no Data Lake\n",
    "Ok, agora depois de todas essas análise nós precisamos salvar tudo isso no nosso Data Lake.\n",
    "\n",
    "Vamos começar importando a biblioteca **Joblib** que tem conjunto de ferramentas para fornecer pipelining leve em Python:"
   ]
  },
  {
   "cell_type": "code",
   "execution_count": 40,
   "id": "10fe34f5",
   "metadata": {},
   "outputs": [],
   "source": [
    "import joblib"
   ]
  },
  {
   "cell_type": "markdown",
   "id": "50c3cc15",
   "metadata": {},
   "source": [
    "#### Persistindo o objeto cluster para o disco:"
   ]
  },
  {
   "cell_type": "code",
   "execution_count": 41,
   "id": "5d611d23",
   "metadata": {},
   "outputs": [
    {
     "data": {
      "text/plain": [
       "['cluster.joblib']"
      ]
     },
     "execution_count": 41,
     "metadata": {},
     "output_type": "execute_result"
    }
   ],
   "source": [
    "joblib.dump(kmeans, \"cluster.joblib\")"
   ]
  },
  {
   "cell_type": "markdown",
   "id": "defc1c78",
   "metadata": {},
   "source": [
    "#### Transferindo o arquivo para o Data Lake:"
   ]
  },
  {
   "cell_type": "code",
   "execution_count": 42,
   "id": "a780d5ec",
   "metadata": {},
   "outputs": [
    {
     "data": {
      "text/plain": [
       "<minio.helpers.ObjectWriteResult at 0x7fe4f171f1c0>"
      ]
     },
     "execution_count": 42,
     "metadata": {},
     "output_type": "execute_result"
    }
   ],
   "source": [
    "client.fput_object(\n",
    "  \"curated\",\n",
    "  \"cluster.joblib\",\n",
    "  \"cluster.joblib\"\n",
    ")"
   ]
  },
  {
   "cell_type": "markdown",
   "id": "1d5bf50f",
   "metadata": {},
   "source": [
    "# Sweetviz\n",
    "Agora e não menos importante nós vamos ver como utilizar a biblioteca **Sweetviz** que nós dar um *overview* sobre os dados em que precisamos fazer análises:"
   ]
  },
  {
   "cell_type": "code",
   "execution_count": 43,
   "id": "a00c1938",
   "metadata": {},
   "outputs": [
    {
     "name": "stdout",
     "output_type": "stream",
     "text": [
      "Requirement already satisfied: sweetviz in /home/drigols/anaconda3/lib/python3.9/site-packages (2.1.3)\n",
      "Requirement already satisfied: tqdm>=4.43.0 in /home/drigols/anaconda3/lib/python3.9/site-packages (from sweetviz) (4.62.3)\n",
      "Requirement already satisfied: numpy>=1.16.0 in /home/drigols/anaconda3/lib/python3.9/site-packages (from sweetviz) (1.19.5)\n",
      "Requirement already satisfied: scipy>=1.3.2 in /home/drigols/anaconda3/lib/python3.9/site-packages (from sweetviz) (1.5.4)\n",
      "Requirement already satisfied: pandas!=1.0.0,!=1.0.1,!=1.0.2,>=0.25.3 in /home/drigols/anaconda3/lib/python3.9/site-packages (from sweetviz) (1.3.4)\n",
      "Requirement already satisfied: importlib-resources>=1.2.0 in /home/drigols/anaconda3/lib/python3.9/site-packages (from sweetviz) (5.4.0)\n",
      "Requirement already satisfied: jinja2>=2.11.1 in /home/drigols/anaconda3/lib/python3.9/site-packages (from sweetviz) (2.11.3)\n",
      "Requirement already satisfied: matplotlib>=3.1.3 in /home/drigols/anaconda3/lib/python3.9/site-packages (from sweetviz) (3.4.3)\n",
      "Requirement already satisfied: zipp>=3.1.0 in /home/drigols/anaconda3/lib/python3.9/site-packages (from importlib-resources>=1.2.0->sweetviz) (3.6.0)\n",
      "Requirement already satisfied: MarkupSafe>=0.23 in /home/drigols/anaconda3/lib/python3.9/site-packages (from jinja2>=2.11.1->sweetviz) (2.0.1)\n",
      "Requirement already satisfied: cycler>=0.10 in /home/drigols/anaconda3/lib/python3.9/site-packages (from matplotlib>=3.1.3->sweetviz) (0.10.0)\n",
      "Requirement already satisfied: kiwisolver>=1.0.1 in /home/drigols/anaconda3/lib/python3.9/site-packages (from matplotlib>=3.1.3->sweetviz) (1.3.1)\n",
      "Requirement already satisfied: python-dateutil>=2.7 in /home/drigols/anaconda3/lib/python3.9/site-packages (from matplotlib>=3.1.3->sweetviz) (2.8.2)\n",
      "Requirement already satisfied: pyparsing>=2.2.1 in /home/drigols/anaconda3/lib/python3.9/site-packages (from matplotlib>=3.1.3->sweetviz) (3.0.4)\n",
      "Requirement already satisfied: pillow>=6.2.0 in /home/drigols/anaconda3/lib/python3.9/site-packages (from matplotlib>=3.1.3->sweetviz) (8.4.0)\n",
      "Requirement already satisfied: six in /home/drigols/anaconda3/lib/python3.9/site-packages (from cycler>=0.10->matplotlib>=3.1.3->sweetviz) (1.16.0)\n",
      "Requirement already satisfied: pytz>=2017.3 in /home/drigols/anaconda3/lib/python3.9/site-packages (from pandas!=1.0.0,!=1.0.1,!=1.0.2,>=0.25.3->sweetviz) (2021.3)\n",
      "Note: you may need to restart the kernel to use updated packages.\n"
     ]
    }
   ],
   "source": [
    "pip install sweetviz"
   ]
  },
  {
   "cell_type": "code",
   "execution_count": 44,
   "id": "f6b1a25d",
   "metadata": {},
   "outputs": [
    {
     "data": {
      "application/vnd.jupyter.widget-view+json": {
       "model_id": "69e675d155964852a4929afd8772aa64",
       "version_major": 2,
       "version_minor": 0
      },
      "text/plain": [
       "                                             |                                                           | [  …"
      ]
     },
     "metadata": {},
     "output_type": "display_data"
    },
    {
     "name": "stdout",
     "output_type": "stream",
     "text": [
      "Report SWEETVIZ_REPORT.html was generated! NOTEBOOK/COLAB USERS: the web browser MAY not pop up, regardless, the report IS saved in your notebook/colab files.\n"
     ]
    }
   ],
   "source": [
    "import sweetviz as sv\n",
    "\n",
    "my_report = sv.analyze(df,\"turnover\")\n",
    "my_report.show_html()"
   ]
  }
 ],
 "metadata": {
  "kernelspec": {
   "display_name": "Python 3 (ipykernel)",
   "language": "python",
   "name": "python3"
  },
  "language_info": {
   "codemirror_mode": {
    "name": "ipython",
    "version": 3
   },
   "file_extension": ".py",
   "mimetype": "text/x-python",
   "name": "python",
   "nbconvert_exporter": "python",
   "pygments_lexer": "ipython3",
   "version": "3.9.7"
  }
 },
 "nbformat": 4,
 "nbformat_minor": 5
}
